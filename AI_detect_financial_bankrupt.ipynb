{
  "nbformat": 4,
  "nbformat_minor": 0,
  "metadata": {
    "colab": {
      "provenance": [],
      "authorship_tag": "ABX9TyNJhDSfItjjngcs8ECOQfBU",
      "include_colab_link": true
    },
    "kernelspec": {
      "name": "python3",
      "display_name": "Python 3"
    },
    "language_info": {
      "name": "python"
    }
  },
  "cells": [
    {
      "cell_type": "markdown",
      "metadata": {
        "id": "view-in-github",
        "colab_type": "text"
      },
      "source": [
        "<a href=\"https://colab.research.google.com/github/vianelk/ai_financial_track/blob/main/AI_detect_financial_bankrupt.ipynb\" target=\"_parent\"><img src=\"https://colab.research.google.com/assets/colab-badge.svg\" alt=\"Open In Colab\"/></a>"
      ]
    },
    {
      "cell_type": "markdown",
      "source": [
        "\n",
        "# AI DETECTION OF COMPAGNY'S BANKRUPT"
      ],
      "metadata": {
        "id": "obiNJE7jMN4W"
      }
    },
    {
      "cell_type": "code",
      "source": [
        "!pip install dataiku-api-client"
      ],
      "metadata": {
        "colab": {
          "base_uri": "https://localhost:8080/"
        },
        "id": "8In4WaWW6a0A",
        "outputId": "9435c168-dbfa-4003-9620-cdfeb5bca4ea"
      },
      "execution_count": 70,
      "outputs": [
        {
          "output_type": "stream",
          "name": "stdout",
          "text": [
            "Requirement already satisfied: dataiku-api-client in /usr/local/lib/python3.11/dist-packages (13.4.1)\n",
            "Requirement already satisfied: requests<3 in /usr/local/lib/python3.11/dist-packages (from dataiku-api-client) (2.32.3)\n",
            "Requirement already satisfied: python-dateutil in /usr/local/lib/python3.11/dist-packages (from dataiku-api-client) (2.8.2)\n",
            "Requirement already satisfied: charset-normalizer<4,>=2 in /usr/local/lib/python3.11/dist-packages (from requests<3->dataiku-api-client) (3.4.1)\n",
            "Requirement already satisfied: idna<4,>=2.5 in /usr/local/lib/python3.11/dist-packages (from requests<3->dataiku-api-client) (3.10)\n",
            "Requirement already satisfied: urllib3<3,>=1.21.1 in /usr/local/lib/python3.11/dist-packages (from requests<3->dataiku-api-client) (2.3.0)\n",
            "Requirement already satisfied: certifi>=2017.4.17 in /usr/local/lib/python3.11/dist-packages (from requests<3->dataiku-api-client) (2025.1.31)\n",
            "Requirement already satisfied: six>=1.5 in /usr/local/lib/python3.11/dist-packages (from python-dateutil->dataiku-api-client) (1.17.0)\n"
          ]
        }
      ]
    },
    {
      "cell_type": "markdown",
      "source": [
        "## IMPORT OF LIBRARIES"
      ],
      "metadata": {
        "id": "R-xVoLMBLcux"
      }
    },
    {
      "cell_type": "code",
      "execution_count": 71,
      "metadata": {
        "id": "iSbdkUttKxGN"
      },
      "outputs": [],
      "source": [
        "import numpy as np\n",
        "import pandas as pd\n",
        "import matplotlib.pyplot as plt\n",
        "import seaborn as sns\n",
        "import dataikuapi as dataiku"
      ]
    },
    {
      "cell_type": "markdown",
      "source": [
        "## IMPORT OF DATASET"
      ],
      "metadata": {
        "id": "if5WuULPPdP5"
      }
    },
    {
      "cell_type": "code",
      "source": [
        "dataiku_url = 'https://dss-c8b1fb04-e440c9ef-dku.eu-west-3.app.dataiku.io/'\n",
        "dataiku_api_key = 'dkuaps-9zHDQVbaVOXD18Rfp2Y3O15dbVV3az0E'\n",
        "dataiku_project_name = 'AI_FINANCIAL_TRACK'\n",
        "dataiku_dataset_name = 'data_filtered'"
      ],
      "metadata": {
        "id": "lkbfyqFdLhP0"
      },
      "execution_count": 72,
      "outputs": []
    },
    {
      "cell_type": "code",
      "source": [
        "def get_dataiku_project(dataiku_url, dataiku_api_key, project_name):\n",
        "    external_client = dataiku.DSSClient(dataiku_url, dataiku_api_key)\n",
        "    project = external_client.get_project(project_name)\n",
        "    return project"
      ],
      "metadata": {
        "id": "jfRztAnf46Zv"
      },
      "execution_count": 73,
      "outputs": []
    },
    {
      "cell_type": "code",
      "source": [
        "def get_dataiku_dataset(project, dataset_name):\n",
        "    dataset = project.get_dataset(dataset_name)\n",
        "    # Récupérer le schéma pour obtenir les noms des colonnes\n",
        "    schema = dataset.get_schema()\n",
        "    column_names = [col['name'] for col in schema['columns']]\n",
        "    # Récupérer les données ligne par ligne\n",
        "    rows = []\n",
        "    for row in dataset.iter_rows():\n",
        "        rows.append(row)\n",
        "    # Convertir les données en DataFrame avec les colonnes\n",
        "    df = pd.DataFrame(rows, columns=column_names)\n",
        "\n",
        "    return df"
      ],
      "metadata": {
        "id": "AoQ7gYbX48VL"
      },
      "execution_count": 74,
      "outputs": []
    },
    {
      "cell_type": "code",
      "source": [
        "projet = get_dataiku_project(dataiku_url, dataiku_api_key, dataiku_project_name)\n",
        "df = get_dataiku_dataset(projet, dataiku_dataset_name)\n",
        "\n",
        "df"
      ],
      "metadata": {
        "id": "TXroXsVU5DRc",
        "outputId": "f6b73fe7-64b9-41bf-ff17-2df93329fa43",
        "colab": {
          "base_uri": "https://localhost:8080/",
          "height": 444
        }
      },
      "execution_count": 75,
      "outputs": [
        {
          "output_type": "execute_result",
          "data": {
            "text/plain": [
              "      net_income_to_total_assets  total_income_total_expense  \\\n",
              "0                       0.716845                    0.002022   \n",
              "1                       0.795297                    0.002226   \n",
              "2                       0.774670                    0.002060   \n",
              "3                       0.739555                    0.001831   \n",
              "4                       0.795016                    0.002224   \n",
              "...                          ...                         ...   \n",
              "6814                    0.799927                    0.002266   \n",
              "6815                    0.799748                    0.002288   \n",
              "6816                    0.797778                    0.002239   \n",
              "6817                    0.811808                    0.002395   \n",
              "6818                    0.815956                    0.002791   \n",
              "\n",
              "      borrowing_dependency  retained_earnings_to_total_assets  \\\n",
              "0                 0.390284                           0.903225   \n",
              "1                 0.376760                           0.931065   \n",
              "2                 0.379093                           0.909903   \n",
              "3                 0.379743                           0.906902   \n",
              "4                 0.375025                           0.913850   \n",
              "...                    ...                                ...   \n",
              "6814              0.373823                           0.925611   \n",
              "6815              0.372505                           0.932629   \n",
              "6816              0.369637                           0.932000   \n",
              "6817              0.369649                           0.939613   \n",
              "6818              0.370049                           0.938005   \n",
              "\n",
              "      total_debt_total_net_worth  bankrupt  \n",
              "0                       0.021266       1.0  \n",
              "1                       0.012502       1.0  \n",
              "2                       0.021248       1.0  \n",
              "3                       0.009572       1.0  \n",
              "4                       0.005150       1.0  \n",
              "...                          ...       ...  \n",
              "6814                    0.006655       0.0  \n",
              "6815                    0.004623       0.0  \n",
              "6816                    0.001392       0.0  \n",
              "6817                    0.003816       0.0  \n",
              "6818                    0.000461       0.0  \n",
              "\n",
              "[6819 rows x 6 columns]"
            ],
            "text/html": [
              "\n",
              "  <div id=\"df-4a3c9948-d957-4763-8a85-90b5bc34bc5a\" class=\"colab-df-container\">\n",
              "    <div>\n",
              "<style scoped>\n",
              "    .dataframe tbody tr th:only-of-type {\n",
              "        vertical-align: middle;\n",
              "    }\n",
              "\n",
              "    .dataframe tbody tr th {\n",
              "        vertical-align: top;\n",
              "    }\n",
              "\n",
              "    .dataframe thead th {\n",
              "        text-align: right;\n",
              "    }\n",
              "</style>\n",
              "<table border=\"1\" class=\"dataframe\">\n",
              "  <thead>\n",
              "    <tr style=\"text-align: right;\">\n",
              "      <th></th>\n",
              "      <th>net_income_to_total_assets</th>\n",
              "      <th>total_income_total_expense</th>\n",
              "      <th>borrowing_dependency</th>\n",
              "      <th>retained_earnings_to_total_assets</th>\n",
              "      <th>total_debt_total_net_worth</th>\n",
              "      <th>bankrupt</th>\n",
              "    </tr>\n",
              "  </thead>\n",
              "  <tbody>\n",
              "    <tr>\n",
              "      <th>0</th>\n",
              "      <td>0.716845</td>\n",
              "      <td>0.002022</td>\n",
              "      <td>0.390284</td>\n",
              "      <td>0.903225</td>\n",
              "      <td>0.021266</td>\n",
              "      <td>1.0</td>\n",
              "    </tr>\n",
              "    <tr>\n",
              "      <th>1</th>\n",
              "      <td>0.795297</td>\n",
              "      <td>0.002226</td>\n",
              "      <td>0.376760</td>\n",
              "      <td>0.931065</td>\n",
              "      <td>0.012502</td>\n",
              "      <td>1.0</td>\n",
              "    </tr>\n",
              "    <tr>\n",
              "      <th>2</th>\n",
              "      <td>0.774670</td>\n",
              "      <td>0.002060</td>\n",
              "      <td>0.379093</td>\n",
              "      <td>0.909903</td>\n",
              "      <td>0.021248</td>\n",
              "      <td>1.0</td>\n",
              "    </tr>\n",
              "    <tr>\n",
              "      <th>3</th>\n",
              "      <td>0.739555</td>\n",
              "      <td>0.001831</td>\n",
              "      <td>0.379743</td>\n",
              "      <td>0.906902</td>\n",
              "      <td>0.009572</td>\n",
              "      <td>1.0</td>\n",
              "    </tr>\n",
              "    <tr>\n",
              "      <th>4</th>\n",
              "      <td>0.795016</td>\n",
              "      <td>0.002224</td>\n",
              "      <td>0.375025</td>\n",
              "      <td>0.913850</td>\n",
              "      <td>0.005150</td>\n",
              "      <td>1.0</td>\n",
              "    </tr>\n",
              "    <tr>\n",
              "      <th>...</th>\n",
              "      <td>...</td>\n",
              "      <td>...</td>\n",
              "      <td>...</td>\n",
              "      <td>...</td>\n",
              "      <td>...</td>\n",
              "      <td>...</td>\n",
              "    </tr>\n",
              "    <tr>\n",
              "      <th>6814</th>\n",
              "      <td>0.799927</td>\n",
              "      <td>0.002266</td>\n",
              "      <td>0.373823</td>\n",
              "      <td>0.925611</td>\n",
              "      <td>0.006655</td>\n",
              "      <td>0.0</td>\n",
              "    </tr>\n",
              "    <tr>\n",
              "      <th>6815</th>\n",
              "      <td>0.799748</td>\n",
              "      <td>0.002288</td>\n",
              "      <td>0.372505</td>\n",
              "      <td>0.932629</td>\n",
              "      <td>0.004623</td>\n",
              "      <td>0.0</td>\n",
              "    </tr>\n",
              "    <tr>\n",
              "      <th>6816</th>\n",
              "      <td>0.797778</td>\n",
              "      <td>0.002239</td>\n",
              "      <td>0.369637</td>\n",
              "      <td>0.932000</td>\n",
              "      <td>0.001392</td>\n",
              "      <td>0.0</td>\n",
              "    </tr>\n",
              "    <tr>\n",
              "      <th>6817</th>\n",
              "      <td>0.811808</td>\n",
              "      <td>0.002395</td>\n",
              "      <td>0.369649</td>\n",
              "      <td>0.939613</td>\n",
              "      <td>0.003816</td>\n",
              "      <td>0.0</td>\n",
              "    </tr>\n",
              "    <tr>\n",
              "      <th>6818</th>\n",
              "      <td>0.815956</td>\n",
              "      <td>0.002791</td>\n",
              "      <td>0.370049</td>\n",
              "      <td>0.938005</td>\n",
              "      <td>0.000461</td>\n",
              "      <td>0.0</td>\n",
              "    </tr>\n",
              "  </tbody>\n",
              "</table>\n",
              "<p>6819 rows × 6 columns</p>\n",
              "</div>\n",
              "    <div class=\"colab-df-buttons\">\n",
              "\n",
              "  <div class=\"colab-df-container\">\n",
              "    <button class=\"colab-df-convert\" onclick=\"convertToInteractive('df-4a3c9948-d957-4763-8a85-90b5bc34bc5a')\"\n",
              "            title=\"Convert this dataframe to an interactive table.\"\n",
              "            style=\"display:none;\">\n",
              "\n",
              "  <svg xmlns=\"http://www.w3.org/2000/svg\" height=\"24px\" viewBox=\"0 -960 960 960\">\n",
              "    <path d=\"M120-120v-720h720v720H120Zm60-500h600v-160H180v160Zm220 220h160v-160H400v160Zm0 220h160v-160H400v160ZM180-400h160v-160H180v160Zm440 0h160v-160H620v160ZM180-180h160v-160H180v160Zm440 0h160v-160H620v160Z\"/>\n",
              "  </svg>\n",
              "    </button>\n",
              "\n",
              "  <style>\n",
              "    .colab-df-container {\n",
              "      display:flex;\n",
              "      gap: 12px;\n",
              "    }\n",
              "\n",
              "    .colab-df-convert {\n",
              "      background-color: #E8F0FE;\n",
              "      border: none;\n",
              "      border-radius: 50%;\n",
              "      cursor: pointer;\n",
              "      display: none;\n",
              "      fill: #1967D2;\n",
              "      height: 32px;\n",
              "      padding: 0 0 0 0;\n",
              "      width: 32px;\n",
              "    }\n",
              "\n",
              "    .colab-df-convert:hover {\n",
              "      background-color: #E2EBFA;\n",
              "      box-shadow: 0px 1px 2px rgba(60, 64, 67, 0.3), 0px 1px 3px 1px rgba(60, 64, 67, 0.15);\n",
              "      fill: #174EA6;\n",
              "    }\n",
              "\n",
              "    .colab-df-buttons div {\n",
              "      margin-bottom: 4px;\n",
              "    }\n",
              "\n",
              "    [theme=dark] .colab-df-convert {\n",
              "      background-color: #3B4455;\n",
              "      fill: #D2E3FC;\n",
              "    }\n",
              "\n",
              "    [theme=dark] .colab-df-convert:hover {\n",
              "      background-color: #434B5C;\n",
              "      box-shadow: 0px 1px 3px 1px rgba(0, 0, 0, 0.15);\n",
              "      filter: drop-shadow(0px 1px 2px rgba(0, 0, 0, 0.3));\n",
              "      fill: #FFFFFF;\n",
              "    }\n",
              "  </style>\n",
              "\n",
              "    <script>\n",
              "      const buttonEl =\n",
              "        document.querySelector('#df-4a3c9948-d957-4763-8a85-90b5bc34bc5a button.colab-df-convert');\n",
              "      buttonEl.style.display =\n",
              "        google.colab.kernel.accessAllowed ? 'block' : 'none';\n",
              "\n",
              "      async function convertToInteractive(key) {\n",
              "        const element = document.querySelector('#df-4a3c9948-d957-4763-8a85-90b5bc34bc5a');\n",
              "        const dataTable =\n",
              "          await google.colab.kernel.invokeFunction('convertToInteractive',\n",
              "                                                    [key], {});\n",
              "        if (!dataTable) return;\n",
              "\n",
              "        const docLinkHtml = 'Like what you see? Visit the ' +\n",
              "          '<a target=\"_blank\" href=https://colab.research.google.com/notebooks/data_table.ipynb>data table notebook</a>'\n",
              "          + ' to learn more about interactive tables.';\n",
              "        element.innerHTML = '';\n",
              "        dataTable['output_type'] = 'display_data';\n",
              "        await google.colab.output.renderOutput(dataTable, element);\n",
              "        const docLink = document.createElement('div');\n",
              "        docLink.innerHTML = docLinkHtml;\n",
              "        element.appendChild(docLink);\n",
              "      }\n",
              "    </script>\n",
              "  </div>\n",
              "\n",
              "\n",
              "<div id=\"df-947145c4-6930-479c-8488-a58ca0c71e21\">\n",
              "  <button class=\"colab-df-quickchart\" onclick=\"quickchart('df-947145c4-6930-479c-8488-a58ca0c71e21')\"\n",
              "            title=\"Suggest charts\"\n",
              "            style=\"display:none;\">\n",
              "\n",
              "<svg xmlns=\"http://www.w3.org/2000/svg\" height=\"24px\"viewBox=\"0 0 24 24\"\n",
              "     width=\"24px\">\n",
              "    <g>\n",
              "        <path d=\"M19 3H5c-1.1 0-2 .9-2 2v14c0 1.1.9 2 2 2h14c1.1 0 2-.9 2-2V5c0-1.1-.9-2-2-2zM9 17H7v-7h2v7zm4 0h-2V7h2v10zm4 0h-2v-4h2v4z\"/>\n",
              "    </g>\n",
              "</svg>\n",
              "  </button>\n",
              "\n",
              "<style>\n",
              "  .colab-df-quickchart {\n",
              "      --bg-color: #E8F0FE;\n",
              "      --fill-color: #1967D2;\n",
              "      --hover-bg-color: #E2EBFA;\n",
              "      --hover-fill-color: #174EA6;\n",
              "      --disabled-fill-color: #AAA;\n",
              "      --disabled-bg-color: #DDD;\n",
              "  }\n",
              "\n",
              "  [theme=dark] .colab-df-quickchart {\n",
              "      --bg-color: #3B4455;\n",
              "      --fill-color: #D2E3FC;\n",
              "      --hover-bg-color: #434B5C;\n",
              "      --hover-fill-color: #FFFFFF;\n",
              "      --disabled-bg-color: #3B4455;\n",
              "      --disabled-fill-color: #666;\n",
              "  }\n",
              "\n",
              "  .colab-df-quickchart {\n",
              "    background-color: var(--bg-color);\n",
              "    border: none;\n",
              "    border-radius: 50%;\n",
              "    cursor: pointer;\n",
              "    display: none;\n",
              "    fill: var(--fill-color);\n",
              "    height: 32px;\n",
              "    padding: 0;\n",
              "    width: 32px;\n",
              "  }\n",
              "\n",
              "  .colab-df-quickchart:hover {\n",
              "    background-color: var(--hover-bg-color);\n",
              "    box-shadow: 0 1px 2px rgba(60, 64, 67, 0.3), 0 1px 3px 1px rgba(60, 64, 67, 0.15);\n",
              "    fill: var(--button-hover-fill-color);\n",
              "  }\n",
              "\n",
              "  .colab-df-quickchart-complete:disabled,\n",
              "  .colab-df-quickchart-complete:disabled:hover {\n",
              "    background-color: var(--disabled-bg-color);\n",
              "    fill: var(--disabled-fill-color);\n",
              "    box-shadow: none;\n",
              "  }\n",
              "\n",
              "  .colab-df-spinner {\n",
              "    border: 2px solid var(--fill-color);\n",
              "    border-color: transparent;\n",
              "    border-bottom-color: var(--fill-color);\n",
              "    animation:\n",
              "      spin 1s steps(1) infinite;\n",
              "  }\n",
              "\n",
              "  @keyframes spin {\n",
              "    0% {\n",
              "      border-color: transparent;\n",
              "      border-bottom-color: var(--fill-color);\n",
              "      border-left-color: var(--fill-color);\n",
              "    }\n",
              "    20% {\n",
              "      border-color: transparent;\n",
              "      border-left-color: var(--fill-color);\n",
              "      border-top-color: var(--fill-color);\n",
              "    }\n",
              "    30% {\n",
              "      border-color: transparent;\n",
              "      border-left-color: var(--fill-color);\n",
              "      border-top-color: var(--fill-color);\n",
              "      border-right-color: var(--fill-color);\n",
              "    }\n",
              "    40% {\n",
              "      border-color: transparent;\n",
              "      border-right-color: var(--fill-color);\n",
              "      border-top-color: var(--fill-color);\n",
              "    }\n",
              "    60% {\n",
              "      border-color: transparent;\n",
              "      border-right-color: var(--fill-color);\n",
              "    }\n",
              "    80% {\n",
              "      border-color: transparent;\n",
              "      border-right-color: var(--fill-color);\n",
              "      border-bottom-color: var(--fill-color);\n",
              "    }\n",
              "    90% {\n",
              "      border-color: transparent;\n",
              "      border-bottom-color: var(--fill-color);\n",
              "    }\n",
              "  }\n",
              "</style>\n",
              "\n",
              "  <script>\n",
              "    async function quickchart(key) {\n",
              "      const quickchartButtonEl =\n",
              "        document.querySelector('#' + key + ' button');\n",
              "      quickchartButtonEl.disabled = true;  // To prevent multiple clicks.\n",
              "      quickchartButtonEl.classList.add('colab-df-spinner');\n",
              "      try {\n",
              "        const charts = await google.colab.kernel.invokeFunction(\n",
              "            'suggestCharts', [key], {});\n",
              "      } catch (error) {\n",
              "        console.error('Error during call to suggestCharts:', error);\n",
              "      }\n",
              "      quickchartButtonEl.classList.remove('colab-df-spinner');\n",
              "      quickchartButtonEl.classList.add('colab-df-quickchart-complete');\n",
              "    }\n",
              "    (() => {\n",
              "      let quickchartButtonEl =\n",
              "        document.querySelector('#df-947145c4-6930-479c-8488-a58ca0c71e21 button');\n",
              "      quickchartButtonEl.style.display =\n",
              "        google.colab.kernel.accessAllowed ? 'block' : 'none';\n",
              "    })();\n",
              "  </script>\n",
              "</div>\n",
              "\n",
              "  <div id=\"id_7d4b2313-72e1-4764-abb7-8a7af920e492\">\n",
              "    <style>\n",
              "      .colab-df-generate {\n",
              "        background-color: #E8F0FE;\n",
              "        border: none;\n",
              "        border-radius: 50%;\n",
              "        cursor: pointer;\n",
              "        display: none;\n",
              "        fill: #1967D2;\n",
              "        height: 32px;\n",
              "        padding: 0 0 0 0;\n",
              "        width: 32px;\n",
              "      }\n",
              "\n",
              "      .colab-df-generate:hover {\n",
              "        background-color: #E2EBFA;\n",
              "        box-shadow: 0px 1px 2px rgba(60, 64, 67, 0.3), 0px 1px 3px 1px rgba(60, 64, 67, 0.15);\n",
              "        fill: #174EA6;\n",
              "      }\n",
              "\n",
              "      [theme=dark] .colab-df-generate {\n",
              "        background-color: #3B4455;\n",
              "        fill: #D2E3FC;\n",
              "      }\n",
              "\n",
              "      [theme=dark] .colab-df-generate:hover {\n",
              "        background-color: #434B5C;\n",
              "        box-shadow: 0px 1px 3px 1px rgba(0, 0, 0, 0.15);\n",
              "        filter: drop-shadow(0px 1px 2px rgba(0, 0, 0, 0.3));\n",
              "        fill: #FFFFFF;\n",
              "      }\n",
              "    </style>\n",
              "    <button class=\"colab-df-generate\" onclick=\"generateWithVariable('df')\"\n",
              "            title=\"Generate code using this dataframe.\"\n",
              "            style=\"display:none;\">\n",
              "\n",
              "  <svg xmlns=\"http://www.w3.org/2000/svg\" height=\"24px\"viewBox=\"0 0 24 24\"\n",
              "       width=\"24px\">\n",
              "    <path d=\"M7,19H8.4L18.45,9,17,7.55,7,17.6ZM5,21V16.75L18.45,3.32a2,2,0,0,1,2.83,0l1.4,1.43a1.91,1.91,0,0,1,.58,1.4,1.91,1.91,0,0,1-.58,1.4L9.25,21ZM18.45,9,17,7.55Zm-12,3A5.31,5.31,0,0,0,4.9,8.1,5.31,5.31,0,0,0,1,6.5,5.31,5.31,0,0,0,4.9,4.9,5.31,5.31,0,0,0,6.5,1,5.31,5.31,0,0,0,8.1,4.9,5.31,5.31,0,0,0,12,6.5,5.46,5.46,0,0,0,6.5,12Z\"/>\n",
              "  </svg>\n",
              "    </button>\n",
              "    <script>\n",
              "      (() => {\n",
              "      const buttonEl =\n",
              "        document.querySelector('#id_7d4b2313-72e1-4764-abb7-8a7af920e492 button.colab-df-generate');\n",
              "      buttonEl.style.display =\n",
              "        google.colab.kernel.accessAllowed ? 'block' : 'none';\n",
              "\n",
              "      buttonEl.onclick = () => {\n",
              "        google.colab.notebook.generateWithVariable('df');\n",
              "      }\n",
              "      })();\n",
              "    </script>\n",
              "  </div>\n",
              "\n",
              "    </div>\n",
              "  </div>\n"
            ],
            "application/vnd.google.colaboratory.intrinsic+json": {
              "type": "dataframe",
              "variable_name": "df",
              "summary": "{\n  \"name\": \"df\",\n  \"rows\": 6819,\n  \"fields\": [\n    {\n      \"column\": \"net_income_to_total_assets\",\n      \"properties\": {\n        \"dtype\": \"number\",\n        \"std\": 0.040332191531426184,\n        \"min\": 0.0,\n        \"max\": 1.0,\n        \"num_unique_values\": 6819,\n        \"samples\": [\n          0.765335860613939,\n          0.817797409104648,\n          0.847517547296116\n        ],\n        \"semantic_type\": \"\",\n        \"description\": \"\"\n      }\n    },\n    {\n      \"column\": \"total_income_total_expense\",\n      \"properties\": {\n        \"dtype\": \"number\",\n        \"std\": 0.01209281469621801,\n        \"min\": 0.0,\n        \"max\": 1.0,\n        \"num_unique_values\": 6819,\n        \"samples\": [\n          0.0020542915076044,\n          0.0024018927060159,\n          0.0024171626003329\n        ],\n        \"semantic_type\": \"\",\n        \"description\": \"\"\n      }\n    },\n    {\n      \"column\": \"borrowing_dependency\",\n      \"properties\": {\n        \"dtype\": \"number\",\n        \"std\": 0.01628616335550086,\n        \"min\": 0.0,\n        \"max\": 1.0,\n        \"num_unique_values\": 4338,\n        \"samples\": [\n          0.370930006285186,\n          0.374448368647432,\n          0.37790522117817\n        ],\n        \"semantic_type\": \"\",\n        \"description\": \"\"\n      }\n    },\n    {\n      \"column\": \"retained_earnings_to_total_assets\",\n      \"properties\": {\n        \"dtype\": \"number\",\n        \"std\": 0.025564221690643096,\n        \"min\": 0.0,\n        \"max\": 1.0,\n        \"num_unique_values\": 6819,\n        \"samples\": [\n          0.922162367581016,\n          0.946526593465005,\n          0.948984882938435\n        ],\n        \"semantic_type\": \"\",\n        \"description\": \"\"\n      }\n    },\n    {\n      \"column\": \"total_debt_total_net_worth\",\n      \"properties\": {\n        \"dtype\": \"number\",\n        \"std\": 168406905.28151137,\n        \"min\": 0.0,\n        \"max\": 9940000000.0,\n        \"num_unique_values\": 5518,\n        \"samples\": [\n          0.0033421789365214,\n          0.0115166105837186,\n          0.0018995248907978\n        ],\n        \"semantic_type\": \"\",\n        \"description\": \"\"\n      }\n    },\n    {\n      \"column\": \"bankrupt\",\n      \"properties\": {\n        \"dtype\": \"number\",\n        \"std\": 0.17671017660772081,\n        \"min\": 0.0,\n        \"max\": 1.0,\n        \"num_unique_values\": 2,\n        \"samples\": [\n          0.0,\n          1.0\n        ],\n        \"semantic_type\": \"\",\n        \"description\": \"\"\n      }\n    }\n  ]\n}"
            }
          },
          "metadata": {},
          "execution_count": 75
        }
      ]
    },
    {
      "cell_type": "markdown",
      "source": [
        "## DATA TRANSFORMATION\n"
      ],
      "metadata": {
        "id": "zuc-nxeEP4q4"
      }
    },
    {
      "cell_type": "code",
      "source": [
        "df.info()"
      ],
      "metadata": {
        "colab": {
          "base_uri": "https://localhost:8080/"
        },
        "id": "U1t_YX_9pyKh",
        "outputId": "982cbf39-3343-47d7-939a-5f2c175629bd"
      },
      "execution_count": 77,
      "outputs": [
        {
          "output_type": "stream",
          "name": "stdout",
          "text": [
            "<class 'pandas.core.frame.DataFrame'>\n",
            "RangeIndex: 6819 entries, 0 to 6818\n",
            "Data columns (total 6 columns):\n",
            " #   Column                             Non-Null Count  Dtype  \n",
            "---  ------                             --------------  -----  \n",
            " 0   net_income_to_total_assets         6819 non-null   float64\n",
            " 1   total_income_total_expense         6819 non-null   float64\n",
            " 2   borrowing_dependency               6819 non-null   float64\n",
            " 3   retained_earnings_to_total_assets  6819 non-null   float64\n",
            " 4   total_debt_total_net_worth         6819 non-null   float64\n",
            " 5   bankrupt                           6819 non-null   float64\n",
            "dtypes: float64(6)\n",
            "memory usage: 319.8 KB\n"
          ]
        }
      ]
    },
    {
      "cell_type": "markdown",
      "source": [
        "### NULL VALUE VERIFICATION"
      ],
      "metadata": {
        "id": "W2RMpDg9ipji"
      }
    },
    {
      "cell_type": "code",
      "source": [
        " df.isnull().sum()"
      ],
      "metadata": {
        "colab": {
          "base_uri": "https://localhost:8080/",
          "height": 272
        },
        "id": "paSa-Ed_QcIM",
        "outputId": "7e2970ba-8217-4ff1-d9a3-7d2da0bea0d6"
      },
      "execution_count": 78,
      "outputs": [
        {
          "output_type": "execute_result",
          "data": {
            "text/plain": [
              "net_income_to_total_assets           0\n",
              "total_income_total_expense           0\n",
              "borrowing_dependency                 0\n",
              "retained_earnings_to_total_assets    0\n",
              "total_debt_total_net_worth           0\n",
              "bankrupt                             0\n",
              "dtype: int64"
            ],
            "text/html": [
              "<div>\n",
              "<style scoped>\n",
              "    .dataframe tbody tr th:only-of-type {\n",
              "        vertical-align: middle;\n",
              "    }\n",
              "\n",
              "    .dataframe tbody tr th {\n",
              "        vertical-align: top;\n",
              "    }\n",
              "\n",
              "    .dataframe thead th {\n",
              "        text-align: right;\n",
              "    }\n",
              "</style>\n",
              "<table border=\"1\" class=\"dataframe\">\n",
              "  <thead>\n",
              "    <tr style=\"text-align: right;\">\n",
              "      <th></th>\n",
              "      <th>0</th>\n",
              "    </tr>\n",
              "  </thead>\n",
              "  <tbody>\n",
              "    <tr>\n",
              "      <th>net_income_to_total_assets</th>\n",
              "      <td>0</td>\n",
              "    </tr>\n",
              "    <tr>\n",
              "      <th>total_income_total_expense</th>\n",
              "      <td>0</td>\n",
              "    </tr>\n",
              "    <tr>\n",
              "      <th>borrowing_dependency</th>\n",
              "      <td>0</td>\n",
              "    </tr>\n",
              "    <tr>\n",
              "      <th>retained_earnings_to_total_assets</th>\n",
              "      <td>0</td>\n",
              "    </tr>\n",
              "    <tr>\n",
              "      <th>total_debt_total_net_worth</th>\n",
              "      <td>0</td>\n",
              "    </tr>\n",
              "    <tr>\n",
              "      <th>bankrupt</th>\n",
              "      <td>0</td>\n",
              "    </tr>\n",
              "  </tbody>\n",
              "</table>\n",
              "</div><br><label><b>dtype:</b> int64</label>"
            ]
          },
          "metadata": {},
          "execution_count": 78
        }
      ]
    },
    {
      "cell_type": "markdown",
      "source": [
        "### VERIFICATION OF DUPLICATES COLUMNS"
      ],
      "metadata": {
        "id": "Tx6S3nWfrD2q"
      }
    },
    {
      "cell_type": "code",
      "source": [
        "df.duplicated().sum()"
      ],
      "metadata": {
        "colab": {
          "base_uri": "https://localhost:8080/"
        },
        "id": "TiAFmW9vp3KS",
        "outputId": "1351d859-ed34-4819-d05e-c853244ebb35"
      },
      "execution_count": 79,
      "outputs": [
        {
          "output_type": "execute_result",
          "data": {
            "text/plain": [
              "0"
            ]
          },
          "metadata": {},
          "execution_count": 79
        }
      ]
    },
    {
      "cell_type": "markdown",
      "source": [
        "### VERIFICATION OF NAN VALUES"
      ],
      "metadata": {
        "id": "EzpmG109q8sl"
      }
    },
    {
      "cell_type": "code",
      "source": [
        "[print(col) for col in df if df[col].isna().sum() > 0]"
      ],
      "metadata": {
        "colab": {
          "base_uri": "https://localhost:8080/"
        },
        "id": "PygWcCuvqDC_",
        "outputId": "96871949-d351-4cdd-cc0f-56503017b6af"
      },
      "execution_count": 81,
      "outputs": [
        {
          "output_type": "execute_result",
          "data": {
            "text/plain": [
              "[]"
            ]
          },
          "metadata": {},
          "execution_count": 81
        }
      ]
    },
    {
      "cell_type": "markdown",
      "source": [
        "## DATA EXPLORATION"
      ],
      "metadata": {
        "id": "8Vq_Sj-XsqUF"
      }
    },
    {
      "cell_type": "markdown",
      "source": [],
      "metadata": {
        "id": "24ffzqk85ozr"
      }
    },
    {
      "cell_type": "code",
      "source": [],
      "metadata": {
        "id": "acZrP7ct27Yf"
      },
      "execution_count": null,
      "outputs": []
    }
  ]
}