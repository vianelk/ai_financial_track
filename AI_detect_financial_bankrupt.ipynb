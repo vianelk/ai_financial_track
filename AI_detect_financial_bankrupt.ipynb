{
  "nbformat": 4,
  "nbformat_minor": 0,
  "metadata": {
    "colab": {
      "provenance": [],
      "include_colab_link": true
    },
    "kernelspec": {
      "name": "python3",
      "display_name": "Python 3"
    },
    "language_info": {
      "name": "python"
    }
  },
  "cells": [
    {
      "cell_type": "markdown",
      "metadata": {
        "id": "view-in-github",
        "colab_type": "text"
      },
      "source": [
        "<a href=\"https://colab.research.google.com/github/vianelk/ai_financial_track/blob/main/AI_detect_financial_bankrupt.ipynb\" target=\"_parent\"><img src=\"https://colab.research.google.com/assets/colab-badge.svg\" alt=\"Open In Colab\"/></a>"
      ]
    },
    {
      "cell_type": "markdown",
      "source": [
        "\n",
        "# AI DETECTION OF COMPAGNY'S BANKRUPT"
      ],
      "metadata": {
        "id": "obiNJE7jMN4W"
      }
    },
    {
      "cell_type": "code",
      "source": [
        "!pip install dataiku-api-client"
      ],
      "metadata": {
        "colab": {
          "base_uri": "https://localhost:8080/"
        },
        "id": "8In4WaWW6a0A",
        "outputId": "997785fb-245d-4898-a3b4-ff979073808a"
      },
      "execution_count": 1,
      "outputs": [
        {
          "output_type": "stream",
          "name": "stdout",
          "text": [
            "Collecting dataiku-api-client\n",
            "  Downloading dataiku_api_client-13.4.1.tar.gz (311 kB)\n",
            "\u001b[?25l     \u001b[90m━━━━━━━━━━━━━━━━━━━━━━━━━━━━━━━━━━━━━━━━\u001b[0m \u001b[32m0.0/311.1 kB\u001b[0m \u001b[31m?\u001b[0m eta \u001b[36m-:--:--\u001b[0m\r\u001b[2K     \u001b[91m━━━━━━━━━━━━━━━━━━━━━━━━━━━━━━━━━━━━━━━\u001b[0m\u001b[91m╸\u001b[0m \u001b[32m307.2/311.1 kB\u001b[0m \u001b[31m9.6 MB/s\u001b[0m eta \u001b[36m0:00:01\u001b[0m\r\u001b[2K     \u001b[90m━━━━━━━━━━━━━━━━━━━━━━━━━━━━━━━━━━━━━━━━\u001b[0m \u001b[32m311.1/311.1 kB\u001b[0m \u001b[31m5.0 MB/s\u001b[0m eta \u001b[36m0:00:00\u001b[0m\n",
            "\u001b[?25h  Preparing metadata (setup.py) ... \u001b[?25l\u001b[?25hdone\n",
            "Requirement already satisfied: requests<3 in /usr/local/lib/python3.11/dist-packages (from dataiku-api-client) (2.32.3)\n",
            "Requirement already satisfied: python-dateutil in /usr/local/lib/python3.11/dist-packages (from dataiku-api-client) (2.8.2)\n",
            "Requirement already satisfied: charset-normalizer<4,>=2 in /usr/local/lib/python3.11/dist-packages (from requests<3->dataiku-api-client) (3.4.1)\n",
            "Requirement already satisfied: idna<4,>=2.5 in /usr/local/lib/python3.11/dist-packages (from requests<3->dataiku-api-client) (3.10)\n",
            "Requirement already satisfied: urllib3<3,>=1.21.1 in /usr/local/lib/python3.11/dist-packages (from requests<3->dataiku-api-client) (2.3.0)\n",
            "Requirement already satisfied: certifi>=2017.4.17 in /usr/local/lib/python3.11/dist-packages (from requests<3->dataiku-api-client) (2025.1.31)\n",
            "Requirement already satisfied: six>=1.5 in /usr/local/lib/python3.11/dist-packages (from python-dateutil->dataiku-api-client) (1.17.0)\n",
            "Building wheels for collected packages: dataiku-api-client\n",
            "  Building wheel for dataiku-api-client (setup.py) ... \u001b[?25l\u001b[?25hdone\n",
            "  Created wheel for dataiku-api-client: filename=dataiku_api_client-13.4.1-py3-none-any.whl size=355713 sha256=f1d46c85148c26b4203588fa452e94cf50fb723a2b938e7e515fbd6552ba7738\n",
            "  Stored in directory: /root/.cache/pip/wheels/25/4e/e8/c5a2af4ea717e6b80141a390507cf2255b9b911b84af31783b\n",
            "Successfully built dataiku-api-client\n",
            "Installing collected packages: dataiku-api-client\n",
            "Successfully installed dataiku-api-client-13.4.1\n"
          ]
        }
      ]
    },
    {
      "cell_type": "markdown",
      "source": [
        "## IMPORT OF LIBRARIES"
      ],
      "metadata": {
        "id": "R-xVoLMBLcux"
      }
    },
    {
      "cell_type": "code",
      "execution_count": 2,
      "metadata": {
        "id": "iSbdkUttKxGN"
      },
      "outputs": [],
      "source": [
        "import numpy as np\n",
        "import pandas as pd\n",
        "import matplotlib.pyplot as plt\n",
        "import seaborn as sns\n",
        "import dataikuapi as dataiku"
      ]
    },
    {
      "cell_type": "markdown",
      "source": [
        "## IMPORT OF DATASET"
      ],
      "metadata": {
        "id": "if5WuULPPdP5"
      }
    },
    {
      "cell_type": "code",
      "source": [
        "dataiku_url = 'https://dss-c8b1fb04-e440c9ef-dku.eu-west-3.app.dataiku.io/'\n",
        "dataiku_api_key = 'dkuaps-9zHDQVbaVOXD18Rfp2Y3O15dbVV3az0E'\n",
        "dataiku_project_name = 'AI_FINANCIAL_TRACK'\n",
        "dataiku_dataset_name = 'data_filtered'"
      ],
      "metadata": {
        "id": "lkbfyqFdLhP0"
      },
      "execution_count": 3,
      "outputs": []
    },
    {
      "cell_type": "code",
      "source": [
        "def get_dataiku_project(dataiku_url, dataiku_api_key, project_name):\n",
        "    external_client = dataiku.DSSClient(dataiku_url, dataiku_api_key)\n",
        "    project = external_client.get_project(project_name)\n",
        "    return project"
      ],
      "metadata": {
        "id": "jfRztAnf46Zv"
      },
      "execution_count": 4,
      "outputs": []
    },
    {
      "cell_type": "code",
      "source": [
        "def get_dataiku_dataset(project, dataset_name):\n",
        "    dataset = project.get_dataset(dataset_name)\n",
        "    # Récupérer le schéma pour obtenir les noms des colonnes\n",
        "    schema = dataset.get_schema()\n",
        "    column_names = [col['name'] for col in schema['columns']]\n",
        "    # Récupérer les données ligne par ligne\n",
        "    rows = []\n",
        "    for row in dataset.iter_rows():\n",
        "        rows.append(row)\n",
        "    # Convertir les données en DataFrame avec les colonnes\n",
        "    df = pd.DataFrame(rows, columns=column_names)\n",
        "\n",
        "    return df"
      ],
      "metadata": {
        "id": "AoQ7gYbX48VL"
      },
      "execution_count": 5,
      "outputs": []
    },
    {
      "cell_type": "code",
      "source": [
        "projet = get_dataiku_project(dataiku_url, dataiku_api_key, dataiku_project_name)\n",
        "df = get_dataiku_dataset(projet, dataiku_dataset_name)\n",
        "\n",
        "df"
      ],
      "metadata": {
        "id": "TXroXsVU5DRc",
        "outputId": "88e0372c-5677-4e8c-96e4-7571b1bb46ee",
        "colab": {
          "base_uri": "https://localhost:8080/",
          "height": 423
        }
      },
      "execution_count": 6,
      "outputs": [
        {
          "output_type": "execute_result",
          "data": {
            "text/plain": [
              "      net_income_to_total_assets  total_income_total_expense  \\\n",
              "0                       0.716845                    0.002022   \n",
              "1                       0.795297                    0.002226   \n",
              "2                       0.774670                    0.002060   \n",
              "3                       0.739555                    0.001831   \n",
              "4                       0.795016                    0.002224   \n",
              "...                          ...                         ...   \n",
              "6814                    0.799927                    0.002266   \n",
              "6815                    0.799748                    0.002288   \n",
              "6816                    0.797778                    0.002239   \n",
              "6817                    0.811808                    0.002395   \n",
              "6818                    0.815956                    0.002791   \n",
              "\n",
              "      borrowing_dependency  retained_earnings_to_total_assets  \\\n",
              "0                 0.390284                           0.903225   \n",
              "1                 0.376760                           0.931065   \n",
              "2                 0.379093                           0.909903   \n",
              "3                 0.379743                           0.906902   \n",
              "4                 0.375025                           0.913850   \n",
              "...                    ...                                ...   \n",
              "6814              0.373823                           0.925611   \n",
              "6815              0.372505                           0.932629   \n",
              "6816              0.369637                           0.932000   \n",
              "6817              0.369649                           0.939613   \n",
              "6818              0.370049                           0.938005   \n",
              "\n",
              "      total_debt_total_net_worth  bankrupt  \n",
              "0                       0.021266       1.0  \n",
              "1                       0.012502       1.0  \n",
              "2                       0.021248       1.0  \n",
              "3                       0.009572       1.0  \n",
              "4                       0.005150       1.0  \n",
              "...                          ...       ...  \n",
              "6814                    0.006655       0.0  \n",
              "6815                    0.004623       0.0  \n",
              "6816                    0.001392       0.0  \n",
              "6817                    0.003816       0.0  \n",
              "6818                    0.000461       0.0  \n",
              "\n",
              "[6819 rows x 6 columns]"
            ],
            "text/html": [
              "\n",
              "  <div id=\"df-16712e89-0e6a-4b1f-9a6a-b87eedac5ad6\" class=\"colab-df-container\">\n",
              "    <div>\n",
              "<style scoped>\n",
              "    .dataframe tbody tr th:only-of-type {\n",
              "        vertical-align: middle;\n",
              "    }\n",
              "\n",
              "    .dataframe tbody tr th {\n",
              "        vertical-align: top;\n",
              "    }\n",
              "\n",
              "    .dataframe thead th {\n",
              "        text-align: right;\n",
              "    }\n",
              "</style>\n",
              "<table border=\"1\" class=\"dataframe\">\n",
              "  <thead>\n",
              "    <tr style=\"text-align: right;\">\n",
              "      <th></th>\n",
              "      <th>net_income_to_total_assets</th>\n",
              "      <th>total_income_total_expense</th>\n",
              "      <th>borrowing_dependency</th>\n",
              "      <th>retained_earnings_to_total_assets</th>\n",
              "      <th>total_debt_total_net_worth</th>\n",
              "      <th>bankrupt</th>\n",
              "    </tr>\n",
              "  </thead>\n",
              "  <tbody>\n",
              "    <tr>\n",
              "      <th>0</th>\n",
              "      <td>0.716845</td>\n",
              "      <td>0.002022</td>\n",
              "      <td>0.390284</td>\n",
              "      <td>0.903225</td>\n",
              "      <td>0.021266</td>\n",
              "      <td>1.0</td>\n",
              "    </tr>\n",
              "    <tr>\n",
              "      <th>1</th>\n",
              "      <td>0.795297</td>\n",
              "      <td>0.002226</td>\n",
              "      <td>0.376760</td>\n",
              "      <td>0.931065</td>\n",
              "      <td>0.012502</td>\n",
              "      <td>1.0</td>\n",
              "    </tr>\n",
              "    <tr>\n",
              "      <th>2</th>\n",
              "      <td>0.774670</td>\n",
              "      <td>0.002060</td>\n",
              "      <td>0.379093</td>\n",
              "      <td>0.909903</td>\n",
              "      <td>0.021248</td>\n",
              "      <td>1.0</td>\n",
              "    </tr>\n",
              "    <tr>\n",
              "      <th>3</th>\n",
              "      <td>0.739555</td>\n",
              "      <td>0.001831</td>\n",
              "      <td>0.379743</td>\n",
              "      <td>0.906902</td>\n",
              "      <td>0.009572</td>\n",
              "      <td>1.0</td>\n",
              "    </tr>\n",
              "    <tr>\n",
              "      <th>4</th>\n",
              "      <td>0.795016</td>\n",
              "      <td>0.002224</td>\n",
              "      <td>0.375025</td>\n",
              "      <td>0.913850</td>\n",
              "      <td>0.005150</td>\n",
              "      <td>1.0</td>\n",
              "    </tr>\n",
              "    <tr>\n",
              "      <th>...</th>\n",
              "      <td>...</td>\n",
              "      <td>...</td>\n",
              "      <td>...</td>\n",
              "      <td>...</td>\n",
              "      <td>...</td>\n",
              "      <td>...</td>\n",
              "    </tr>\n",
              "    <tr>\n",
              "      <th>6814</th>\n",
              "      <td>0.799927</td>\n",
              "      <td>0.002266</td>\n",
              "      <td>0.373823</td>\n",
              "      <td>0.925611</td>\n",
              "      <td>0.006655</td>\n",
              "      <td>0.0</td>\n",
              "    </tr>\n",
              "    <tr>\n",
              "      <th>6815</th>\n",
              "      <td>0.799748</td>\n",
              "      <td>0.002288</td>\n",
              "      <td>0.372505</td>\n",
              "      <td>0.932629</td>\n",
              "      <td>0.004623</td>\n",
              "      <td>0.0</td>\n",
              "    </tr>\n",
              "    <tr>\n",
              "      <th>6816</th>\n",
              "      <td>0.797778</td>\n",
              "      <td>0.002239</td>\n",
              "      <td>0.369637</td>\n",
              "      <td>0.932000</td>\n",
              "      <td>0.001392</td>\n",
              "      <td>0.0</td>\n",
              "    </tr>\n",
              "    <tr>\n",
              "      <th>6817</th>\n",
              "      <td>0.811808</td>\n",
              "      <td>0.002395</td>\n",
              "      <td>0.369649</td>\n",
              "      <td>0.939613</td>\n",
              "      <td>0.003816</td>\n",
              "      <td>0.0</td>\n",
              "    </tr>\n",
              "    <tr>\n",
              "      <th>6818</th>\n",
              "      <td>0.815956</td>\n",
              "      <td>0.002791</td>\n",
              "      <td>0.370049</td>\n",
              "      <td>0.938005</td>\n",
              "      <td>0.000461</td>\n",
              "      <td>0.0</td>\n",
              "    </tr>\n",
              "  </tbody>\n",
              "</table>\n",
              "<p>6819 rows × 6 columns</p>\n",
              "</div>\n",
              "    <div class=\"colab-df-buttons\">\n",
              "\n",
              "  <div class=\"colab-df-container\">\n",
              "    <button class=\"colab-df-convert\" onclick=\"convertToInteractive('df-16712e89-0e6a-4b1f-9a6a-b87eedac5ad6')\"\n",
              "            title=\"Convert this dataframe to an interactive table.\"\n",
              "            style=\"display:none;\">\n",
              "\n",
              "  <svg xmlns=\"http://www.w3.org/2000/svg\" height=\"24px\" viewBox=\"0 -960 960 960\">\n",
              "    <path d=\"M120-120v-720h720v720H120Zm60-500h600v-160H180v160Zm220 220h160v-160H400v160Zm0 220h160v-160H400v160ZM180-400h160v-160H180v160Zm440 0h160v-160H620v160ZM180-180h160v-160H180v160Zm440 0h160v-160H620v160Z\"/>\n",
              "  </svg>\n",
              "    </button>\n",
              "\n",
              "  <style>\n",
              "    .colab-df-container {\n",
              "      display:flex;\n",
              "      gap: 12px;\n",
              "    }\n",
              "\n",
              "    .colab-df-convert {\n",
              "      background-color: #E8F0FE;\n",
              "      border: none;\n",
              "      border-radius: 50%;\n",
              "      cursor: pointer;\n",
              "      display: none;\n",
              "      fill: #1967D2;\n",
              "      height: 32px;\n",
              "      padding: 0 0 0 0;\n",
              "      width: 32px;\n",
              "    }\n",
              "\n",
              "    .colab-df-convert:hover {\n",
              "      background-color: #E2EBFA;\n",
              "      box-shadow: 0px 1px 2px rgba(60, 64, 67, 0.3), 0px 1px 3px 1px rgba(60, 64, 67, 0.15);\n",
              "      fill: #174EA6;\n",
              "    }\n",
              "\n",
              "    .colab-df-buttons div {\n",
              "      margin-bottom: 4px;\n",
              "    }\n",
              "\n",
              "    [theme=dark] .colab-df-convert {\n",
              "      background-color: #3B4455;\n",
              "      fill: #D2E3FC;\n",
              "    }\n",
              "\n",
              "    [theme=dark] .colab-df-convert:hover {\n",
              "      background-color: #434B5C;\n",
              "      box-shadow: 0px 1px 3px 1px rgba(0, 0, 0, 0.15);\n",
              "      filter: drop-shadow(0px 1px 2px rgba(0, 0, 0, 0.3));\n",
              "      fill: #FFFFFF;\n",
              "    }\n",
              "  </style>\n",
              "\n",
              "    <script>\n",
              "      const buttonEl =\n",
              "        document.querySelector('#df-16712e89-0e6a-4b1f-9a6a-b87eedac5ad6 button.colab-df-convert');\n",
              "      buttonEl.style.display =\n",
              "        google.colab.kernel.accessAllowed ? 'block' : 'none';\n",
              "\n",
              "      async function convertToInteractive(key) {\n",
              "        const element = document.querySelector('#df-16712e89-0e6a-4b1f-9a6a-b87eedac5ad6');\n",
              "        const dataTable =\n",
              "          await google.colab.kernel.invokeFunction('convertToInteractive',\n",
              "                                                    [key], {});\n",
              "        if (!dataTable) return;\n",
              "\n",
              "        const docLinkHtml = 'Like what you see? Visit the ' +\n",
              "          '<a target=\"_blank\" href=https://colab.research.google.com/notebooks/data_table.ipynb>data table notebook</a>'\n",
              "          + ' to learn more about interactive tables.';\n",
              "        element.innerHTML = '';\n",
              "        dataTable['output_type'] = 'display_data';\n",
              "        await google.colab.output.renderOutput(dataTable, element);\n",
              "        const docLink = document.createElement('div');\n",
              "        docLink.innerHTML = docLinkHtml;\n",
              "        element.appendChild(docLink);\n",
              "      }\n",
              "    </script>\n",
              "  </div>\n",
              "\n",
              "\n",
              "<div id=\"df-45ec0bd6-60b7-4fc8-9fab-d2918aa0e38e\">\n",
              "  <button class=\"colab-df-quickchart\" onclick=\"quickchart('df-45ec0bd6-60b7-4fc8-9fab-d2918aa0e38e')\"\n",
              "            title=\"Suggest charts\"\n",
              "            style=\"display:none;\">\n",
              "\n",
              "<svg xmlns=\"http://www.w3.org/2000/svg\" height=\"24px\"viewBox=\"0 0 24 24\"\n",
              "     width=\"24px\">\n",
              "    <g>\n",
              "        <path d=\"M19 3H5c-1.1 0-2 .9-2 2v14c0 1.1.9 2 2 2h14c1.1 0 2-.9 2-2V5c0-1.1-.9-2-2-2zM9 17H7v-7h2v7zm4 0h-2V7h2v10zm4 0h-2v-4h2v4z\"/>\n",
              "    </g>\n",
              "</svg>\n",
              "  </button>\n",
              "\n",
              "<style>\n",
              "  .colab-df-quickchart {\n",
              "      --bg-color: #E8F0FE;\n",
              "      --fill-color: #1967D2;\n",
              "      --hover-bg-color: #E2EBFA;\n",
              "      --hover-fill-color: #174EA6;\n",
              "      --disabled-fill-color: #AAA;\n",
              "      --disabled-bg-color: #DDD;\n",
              "  }\n",
              "\n",
              "  [theme=dark] .colab-df-quickchart {\n",
              "      --bg-color: #3B4455;\n",
              "      --fill-color: #D2E3FC;\n",
              "      --hover-bg-color: #434B5C;\n",
              "      --hover-fill-color: #FFFFFF;\n",
              "      --disabled-bg-color: #3B4455;\n",
              "      --disabled-fill-color: #666;\n",
              "  }\n",
              "\n",
              "  .colab-df-quickchart {\n",
              "    background-color: var(--bg-color);\n",
              "    border: none;\n",
              "    border-radius: 50%;\n",
              "    cursor: pointer;\n",
              "    display: none;\n",
              "    fill: var(--fill-color);\n",
              "    height: 32px;\n",
              "    padding: 0;\n",
              "    width: 32px;\n",
              "  }\n",
              "\n",
              "  .colab-df-quickchart:hover {\n",
              "    background-color: var(--hover-bg-color);\n",
              "    box-shadow: 0 1px 2px rgba(60, 64, 67, 0.3), 0 1px 3px 1px rgba(60, 64, 67, 0.15);\n",
              "    fill: var(--button-hover-fill-color);\n",
              "  }\n",
              "\n",
              "  .colab-df-quickchart-complete:disabled,\n",
              "  .colab-df-quickchart-complete:disabled:hover {\n",
              "    background-color: var(--disabled-bg-color);\n",
              "    fill: var(--disabled-fill-color);\n",
              "    box-shadow: none;\n",
              "  }\n",
              "\n",
              "  .colab-df-spinner {\n",
              "    border: 2px solid var(--fill-color);\n",
              "    border-color: transparent;\n",
              "    border-bottom-color: var(--fill-color);\n",
              "    animation:\n",
              "      spin 1s steps(1) infinite;\n",
              "  }\n",
              "\n",
              "  @keyframes spin {\n",
              "    0% {\n",
              "      border-color: transparent;\n",
              "      border-bottom-color: var(--fill-color);\n",
              "      border-left-color: var(--fill-color);\n",
              "    }\n",
              "    20% {\n",
              "      border-color: transparent;\n",
              "      border-left-color: var(--fill-color);\n",
              "      border-top-color: var(--fill-color);\n",
              "    }\n",
              "    30% {\n",
              "      border-color: transparent;\n",
              "      border-left-color: var(--fill-color);\n",
              "      border-top-color: var(--fill-color);\n",
              "      border-right-color: var(--fill-color);\n",
              "    }\n",
              "    40% {\n",
              "      border-color: transparent;\n",
              "      border-right-color: var(--fill-color);\n",
              "      border-top-color: var(--fill-color);\n",
              "    }\n",
              "    60% {\n",
              "      border-color: transparent;\n",
              "      border-right-color: var(--fill-color);\n",
              "    }\n",
              "    80% {\n",
              "      border-color: transparent;\n",
              "      border-right-color: var(--fill-color);\n",
              "      border-bottom-color: var(--fill-color);\n",
              "    }\n",
              "    90% {\n",
              "      border-color: transparent;\n",
              "      border-bottom-color: var(--fill-color);\n",
              "    }\n",
              "  }\n",
              "</style>\n",
              "\n",
              "  <script>\n",
              "    async function quickchart(key) {\n",
              "      const quickchartButtonEl =\n",
              "        document.querySelector('#' + key + ' button');\n",
              "      quickchartButtonEl.disabled = true;  // To prevent multiple clicks.\n",
              "      quickchartButtonEl.classList.add('colab-df-spinner');\n",
              "      try {\n",
              "        const charts = await google.colab.kernel.invokeFunction(\n",
              "            'suggestCharts', [key], {});\n",
              "      } catch (error) {\n",
              "        console.error('Error during call to suggestCharts:', error);\n",
              "      }\n",
              "      quickchartButtonEl.classList.remove('colab-df-spinner');\n",
              "      quickchartButtonEl.classList.add('colab-df-quickchart-complete');\n",
              "    }\n",
              "    (() => {\n",
              "      let quickchartButtonEl =\n",
              "        document.querySelector('#df-45ec0bd6-60b7-4fc8-9fab-d2918aa0e38e button');\n",
              "      quickchartButtonEl.style.display =\n",
              "        google.colab.kernel.accessAllowed ? 'block' : 'none';\n",
              "    })();\n",
              "  </script>\n",
              "</div>\n",
              "\n",
              "  <div id=\"id_9ea91750-5f4e-477c-b83c-2c60c5e3961c\">\n",
              "    <style>\n",
              "      .colab-df-generate {\n",
              "        background-color: #E8F0FE;\n",
              "        border: none;\n",
              "        border-radius: 50%;\n",
              "        cursor: pointer;\n",
              "        display: none;\n",
              "        fill: #1967D2;\n",
              "        height: 32px;\n",
              "        padding: 0 0 0 0;\n",
              "        width: 32px;\n",
              "      }\n",
              "\n",
              "      .colab-df-generate:hover {\n",
              "        background-color: #E2EBFA;\n",
              "        box-shadow: 0px 1px 2px rgba(60, 64, 67, 0.3), 0px 1px 3px 1px rgba(60, 64, 67, 0.15);\n",
              "        fill: #174EA6;\n",
              "      }\n",
              "\n",
              "      [theme=dark] .colab-df-generate {\n",
              "        background-color: #3B4455;\n",
              "        fill: #D2E3FC;\n",
              "      }\n",
              "\n",
              "      [theme=dark] .colab-df-generate:hover {\n",
              "        background-color: #434B5C;\n",
              "        box-shadow: 0px 1px 3px 1px rgba(0, 0, 0, 0.15);\n",
              "        filter: drop-shadow(0px 1px 2px rgba(0, 0, 0, 0.3));\n",
              "        fill: #FFFFFF;\n",
              "      }\n",
              "    </style>\n",
              "    <button class=\"colab-df-generate\" onclick=\"generateWithVariable('df')\"\n",
              "            title=\"Generate code using this dataframe.\"\n",
              "            style=\"display:none;\">\n",
              "\n",
              "  <svg xmlns=\"http://www.w3.org/2000/svg\" height=\"24px\"viewBox=\"0 0 24 24\"\n",
              "       width=\"24px\">\n",
              "    <path d=\"M7,19H8.4L18.45,9,17,7.55,7,17.6ZM5,21V16.75L18.45,3.32a2,2,0,0,1,2.83,0l1.4,1.43a1.91,1.91,0,0,1,.58,1.4,1.91,1.91,0,0,1-.58,1.4L9.25,21ZM18.45,9,17,7.55Zm-12,3A5.31,5.31,0,0,0,4.9,8.1,5.31,5.31,0,0,0,1,6.5,5.31,5.31,0,0,0,4.9,4.9,5.31,5.31,0,0,0,6.5,1,5.31,5.31,0,0,0,8.1,4.9,5.31,5.31,0,0,0,12,6.5,5.46,5.46,0,0,0,6.5,12Z\"/>\n",
              "  </svg>\n",
              "    </button>\n",
              "    <script>\n",
              "      (() => {\n",
              "      const buttonEl =\n",
              "        document.querySelector('#id_9ea91750-5f4e-477c-b83c-2c60c5e3961c button.colab-df-generate');\n",
              "      buttonEl.style.display =\n",
              "        google.colab.kernel.accessAllowed ? 'block' : 'none';\n",
              "\n",
              "      buttonEl.onclick = () => {\n",
              "        google.colab.notebook.generateWithVariable('df');\n",
              "      }\n",
              "      })();\n",
              "    </script>\n",
              "  </div>\n",
              "\n",
              "    </div>\n",
              "  </div>\n"
            ],
            "application/vnd.google.colaboratory.intrinsic+json": {
              "type": "dataframe",
              "variable_name": "df",
              "summary": "{\n  \"name\": \"df\",\n  \"rows\": 6819,\n  \"fields\": [\n    {\n      \"column\": \"net_income_to_total_assets\",\n      \"properties\": {\n        \"dtype\": \"number\",\n        \"std\": 0.040332191531426184,\n        \"min\": 0.0,\n        \"max\": 1.0,\n        \"num_unique_values\": 6819,\n        \"samples\": [\n          0.765335860613939,\n          0.817797409104648,\n          0.847517547296116\n        ],\n        \"semantic_type\": \"\",\n        \"description\": \"\"\n      }\n    },\n    {\n      \"column\": \"total_income_total_expense\",\n      \"properties\": {\n        \"dtype\": \"number\",\n        \"std\": 0.01209281469621801,\n        \"min\": 0.0,\n        \"max\": 1.0,\n        \"num_unique_values\": 6819,\n        \"samples\": [\n          0.0020542915076044,\n          0.0024018927060159,\n          0.0024171626003329\n        ],\n        \"semantic_type\": \"\",\n        \"description\": \"\"\n      }\n    },\n    {\n      \"column\": \"borrowing_dependency\",\n      \"properties\": {\n        \"dtype\": \"number\",\n        \"std\": 0.01628616335550086,\n        \"min\": 0.0,\n        \"max\": 1.0,\n        \"num_unique_values\": 4338,\n        \"samples\": [\n          0.370930006285186,\n          0.374448368647432,\n          0.37790522117817\n        ],\n        \"semantic_type\": \"\",\n        \"description\": \"\"\n      }\n    },\n    {\n      \"column\": \"retained_earnings_to_total_assets\",\n      \"properties\": {\n        \"dtype\": \"number\",\n        \"std\": 0.025564221690643096,\n        \"min\": 0.0,\n        \"max\": 1.0,\n        \"num_unique_values\": 6819,\n        \"samples\": [\n          0.922162367581016,\n          0.946526593465005,\n          0.948984882938435\n        ],\n        \"semantic_type\": \"\",\n        \"description\": \"\"\n      }\n    },\n    {\n      \"column\": \"total_debt_total_net_worth\",\n      \"properties\": {\n        \"dtype\": \"number\",\n        \"std\": 168406905.28151137,\n        \"min\": 0.0,\n        \"max\": 9940000000.0,\n        \"num_unique_values\": 5518,\n        \"samples\": [\n          0.0033421789365214,\n          0.0115166105837186,\n          0.0018995248907978\n        ],\n        \"semantic_type\": \"\",\n        \"description\": \"\"\n      }\n    },\n    {\n      \"column\": \"bankrupt\",\n      \"properties\": {\n        \"dtype\": \"number\",\n        \"std\": 0.17671017660772081,\n        \"min\": 0.0,\n        \"max\": 1.0,\n        \"num_unique_values\": 2,\n        \"samples\": [\n          0.0,\n          1.0\n        ],\n        \"semantic_type\": \"\",\n        \"description\": \"\"\n      }\n    }\n  ]\n}"
            }
          },
          "metadata": {},
          "execution_count": 6
        }
      ]
    },
    {
      "cell_type": "markdown",
      "source": [
        "## DATA TRANSFORMATION\n"
      ],
      "metadata": {
        "id": "zuc-nxeEP4q4"
      }
    },
    {
      "cell_type": "code",
      "source": [
        "df.info()"
      ],
      "metadata": {
        "colab": {
          "base_uri": "https://localhost:8080/"
        },
        "id": "U1t_YX_9pyKh",
        "outputId": "f02b7f53-94c4-4e90-b105-b52e70bf8f12"
      },
      "execution_count": 7,
      "outputs": [
        {
          "output_type": "stream",
          "name": "stdout",
          "text": [
            "<class 'pandas.core.frame.DataFrame'>\n",
            "RangeIndex: 6819 entries, 0 to 6818\n",
            "Data columns (total 6 columns):\n",
            " #   Column                             Non-Null Count  Dtype  \n",
            "---  ------                             --------------  -----  \n",
            " 0   net_income_to_total_assets         6819 non-null   float64\n",
            " 1   total_income_total_expense         6819 non-null   float64\n",
            " 2   borrowing_dependency               6819 non-null   float64\n",
            " 3   retained_earnings_to_total_assets  6819 non-null   float64\n",
            " 4   total_debt_total_net_worth         6819 non-null   float64\n",
            " 5   bankrupt                           6819 non-null   float64\n",
            "dtypes: float64(6)\n",
            "memory usage: 319.8 KB\n"
          ]
        }
      ]
    },
    {
      "cell_type": "markdown",
      "source": [
        "### FIABALITE DE LA DONNEE: VERIFICATION\n",
        "\n"
      ],
      "metadata": {
        "id": "W2RMpDg9ipji"
      }
    },
    {
      "cell_type": "code",
      "source": [
        "#Vérification de valeurs nulles dans le dataset\n",
        "df.isnull().sum()"
      ],
      "metadata": {
        "colab": {
          "base_uri": "https://localhost:8080/",
          "height": 272
        },
        "id": "paSa-Ed_QcIM",
        "outputId": "51b327ad-fe88-42bc-ec76-c105aaea3271"
      },
      "execution_count": 13,
      "outputs": [
        {
          "output_type": "execute_result",
          "data": {
            "text/plain": [
              "net_income_to_total_assets           0\n",
              "total_income_total_expense           0\n",
              "borrowing_dependency                 0\n",
              "retained_earnings_to_total_assets    0\n",
              "total_debt_total_net_worth           0\n",
              "bankrupt                             0\n",
              "dtype: int64"
            ],
            "text/html": [
              "<div>\n",
              "<style scoped>\n",
              "    .dataframe tbody tr th:only-of-type {\n",
              "        vertical-align: middle;\n",
              "    }\n",
              "\n",
              "    .dataframe tbody tr th {\n",
              "        vertical-align: top;\n",
              "    }\n",
              "\n",
              "    .dataframe thead th {\n",
              "        text-align: right;\n",
              "    }\n",
              "</style>\n",
              "<table border=\"1\" class=\"dataframe\">\n",
              "  <thead>\n",
              "    <tr style=\"text-align: right;\">\n",
              "      <th></th>\n",
              "      <th>0</th>\n",
              "    </tr>\n",
              "  </thead>\n",
              "  <tbody>\n",
              "    <tr>\n",
              "      <th>net_income_to_total_assets</th>\n",
              "      <td>0</td>\n",
              "    </tr>\n",
              "    <tr>\n",
              "      <th>total_income_total_expense</th>\n",
              "      <td>0</td>\n",
              "    </tr>\n",
              "    <tr>\n",
              "      <th>borrowing_dependency</th>\n",
              "      <td>0</td>\n",
              "    </tr>\n",
              "    <tr>\n",
              "      <th>retained_earnings_to_total_assets</th>\n",
              "      <td>0</td>\n",
              "    </tr>\n",
              "    <tr>\n",
              "      <th>total_debt_total_net_worth</th>\n",
              "      <td>0</td>\n",
              "    </tr>\n",
              "    <tr>\n",
              "      <th>bankrupt</th>\n",
              "      <td>0</td>\n",
              "    </tr>\n",
              "  </tbody>\n",
              "</table>\n",
              "</div><br><label><b>dtype:</b> int64</label>"
            ]
          },
          "metadata": {},
          "execution_count": 13
        }
      ]
    },
    {
      "cell_type": "code",
      "source": [
        "#Recherche de colonne en double\n",
        "df.duplicated().sum()"
      ],
      "metadata": {
        "colab": {
          "base_uri": "https://localhost:8080/"
        },
        "id": "TiAFmW9vp3KS",
        "outputId": "9ceddb9d-4e85-4dc4-ebd1-1f91b95c4f35"
      },
      "execution_count": 14,
      "outputs": [
        {
          "output_type": "execute_result",
          "data": {
            "text/plain": [
              "0"
            ]
          },
          "metadata": {},
          "execution_count": 14
        }
      ]
    },
    {
      "cell_type": "code",
      "source": [
        "# Recherche de valeur NAN\n",
        "[print(col) for col in df if df[col].isna().sum() > 0]"
      ],
      "metadata": {
        "colab": {
          "base_uri": "https://localhost:8080/"
        },
        "id": "PygWcCuvqDC_",
        "outputId": "d0a54c3a-f739-40a0-d26d-f2954603030e"
      },
      "execution_count": 15,
      "outputs": [
        {
          "output_type": "execute_result",
          "data": {
            "text/plain": [
              "[]"
            ]
          },
          "metadata": {},
          "execution_count": 15
        }
      ]
    },
    {
      "cell_type": "markdown",
      "source": [
        "## DATA EXPLORATION"
      ],
      "metadata": {
        "id": "8Vq_Sj-XsqUF"
      }
    },
    {
      "cell_type": "markdown",
      "source": [
        "**X86 - Net Income to Total Assets (Rentabilité des actifs)**\n",
        "<br>→ Mesure le profit net par rapport aux actifs.\n",
        "<br>✔ Élevé = Bonne rentabilité et efficacité.\n",
        "<br>✖ Faible/Négatif = Risque de faillite.\n",
        "\n",
        "<br>**X69 - Total income / Total expense (Revenus / Dépenses)**\n",
        "<br>→ Compare les revenus aux dépenses.\n",
        "<br>✔ > 1 = Entreprise viable.\n",
        "<br>✖ < 1 = Dépenses supérieures aux revenus, risque de pertes.\n",
        "\n",
        "<br>**X40 - Borrowing dependency (Dépendance aux emprunts)**\n",
        "<br>→ Indique la part des coûts financiers liée aux emprunts.\n",
        "<br>✔ Faible = Moins de risque financier.\n",
        "<br>✖ Élevé = Forte dépendance, risque accru en cas de baisse de revenus.\n",
        "\n",
        "<br**>X68 - Retained Earnings to Total Assets (Bénéfices non répartis / Actifs)**\n",
        "<br>→ Montre combien des actifs sont financés par les bénéfices passés.\n",
        "<br>✔ Élevé = Stabilité financière.\n",
        "<br>✖ Faible = Forte dépendance aux emprunts/investisseurs.\n",
        "\n",
        "<br>**X36 - Total debt / Total net worth (Ratio d’endettement)**\n",
        "<br>→ Compare la dette totale aux fonds propres.\n",
        "<br>✔ Faible = Bonne solidité financière.\n",
        "<br>✖ Élevé = Flexibilité financière réduite, risque accru en cas de crise."
      ],
      "metadata": {
        "id": "24ffzqk85ozr"
      }
    },
    {
      "cell_type": "code",
      "source": [
        "# Sélection des colonnes d'intérêt avec les nouveaux noms\n",
        "selected_columns = [\n",
        "    \"net_income_to_total_assets\",\n",
        "    \"total_income_total_expense\",\n",
        "    \"borrowing_dependency\",\n",
        "    \"retained_earnings_to_total_assets\",\n",
        "    \"total_debt_total_net_worth\"\n",
        "]\n",
        "\n",
        "df_selected = df[selected_columns]"
      ],
      "metadata": {
        "id": "acZrP7ct27Yf"
      },
      "execution_count": 17,
      "outputs": []
    },
    {
      "cell_type": "code",
      "source": [
        "# Affichage des statistiques descriptives\n",
        "stats_desc = df_selected.describe()\n",
        "print(\"Statistiques descriptives :\\n\", stats_desc)"
      ],
      "metadata": {
        "id": "1dJTDifqe4DO",
        "outputId": "bcc1d650-0649-4f75-e11d-58998bba0db8",
        "colab": {
          "base_uri": "https://localhost:8080/"
        }
      },
      "execution_count": 18,
      "outputs": [
        {
          "output_type": "stream",
          "name": "stdout",
          "text": [
            "Statistiques descriptives :\n",
            "        net_income_to_total_assets  total_income_total_expense  \\\n",
            "count                 6819.000000                 6819.000000   \n",
            "mean                     0.807760                    0.002549   \n",
            "std                      0.040332                    0.012093   \n",
            "min                      0.000000                    0.000000   \n",
            "25%                      0.796750                    0.002236   \n",
            "50%                      0.810619                    0.002336   \n",
            "75%                      0.826455                    0.002492   \n",
            "max                      1.000000                    1.000000   \n",
            "\n",
            "       borrowing_dependency  retained_earnings_to_total_assets  \\\n",
            "count           6819.000000                        6819.000000   \n",
            "mean               0.374654                           0.934733   \n",
            "std                0.016286                           0.025564   \n",
            "min                0.000000                           0.000000   \n",
            "25%                0.370168                           0.931097   \n",
            "50%                0.372624                           0.937672   \n",
            "75%                0.376271                           0.944811   \n",
            "max                1.000000                           1.000000   \n",
            "\n",
            "       total_debt_total_net_worth  \n",
            "count                6.819000e+03  \n",
            "mean                 4.416337e+06  \n",
            "std                  1.684069e+08  \n",
            "min                  0.000000e+00  \n",
            "25%                  3.007049e-03  \n",
            "50%                  5.546284e-03  \n",
            "75%                  9.273293e-03  \n",
            "max                  9.940000e+09  \n"
          ]
        }
      ]
    },
    {
      "cell_type": "markdown",
      "source": [
        "**Net_Income_to_Total_Assets (Rentabilité des actifs)**\n",
        "<br>→ Moyenne : 0.8077 (80% des actifs en revenu net)\n",
        "<br>→ Peu de variation, certaines entreprises à 0, d’autres à 1.\n",
        "<br>\n",
        "<br>**Total_income_Total_expense (Revenus vs Dépenses)**\n",
        "<br>→ Moyenne : 0.0025 (revenus ≈ dépenses)\n",
        "<br>→ Variabilité élevée, certaines entreprises équilibrées, d’autres déficitaires.\n",
        "<br>\n",
        "<br>**Borrowing_dependency (Dépendance aux emprunts)**\n",
        "<br>→ Moyenne : 37% des coûts financiers liés à la dette\n",
        "<br>→ Faible variation, certaines entreprises sans dette, d’autres totalement dépendantes.\n",
        "<br>\n",
        "<br>**Retained_Earnings_to_Total_Assets (Bénéfices non répartis)**\n",
        "<br>→ Moyenne : 93% des actifs financés en interne\n",
        "<br>→ Stabilité forte, mais certaines entreprises sans bénéfices accumulés.\n",
        "<br>\n",
        "<br>**Total_debt_Total_net_worth (Ratio d’endettement)**\n",
        "<br>→ Moyenne : 4.4M, Le ratio d'endettement moyen est très élevé\n",
        "<br>→ Certaines entreprises sans dette, d’autres extrêmement endettées."
      ],
      "metadata": {
        "id": "stS5OSbhe8az"
      }
    },
    {
      "cell_type": "code",
      "source": [
        "# Visualisation des distributions (Histogrammes)\n",
        "plt.figure(figsize=(12, 6))\n",
        "df_selected.hist(bins=30, figsize=(12, 8), layout=(2, 3))\n",
        "plt.suptitle(\"Distribution des variables sélectionnées\")\n",
        "plt.show()"
      ],
      "metadata": {
        "id": "kOFoGlT7fCi0",
        "outputId": "05104e3e-c88f-490f-b8d7-6ff83aa66e4c",
        "colab": {
          "base_uri": "https://localhost:8080/",
          "height": 772
        }
      },
      "execution_count": 19,
      "outputs": [
        {
          "output_type": "display_data",
          "data": {
            "text/plain": [
              "<Figure size 1200x600 with 0 Axes>"
            ]
          },
          "metadata": {}
        },
        {
          "output_type": "display_data",
          "data": {
            "text/plain": [
              "<Figure size 1200x800 with 6 Axes>"
            ],
            "image/png": "[encoded data removed]"
          },
          "metadata": {}
        }
      ]
    },
    {
      "cell_type": "markdown",
      "source": [
        "**Interpretation**\n",
        "\n",
        "\n",
        "*   **Net Income to Total Assets** : La majorité des entreprises ont un ratio compris entre 0.75 et 0.85, ce qui montre une forte concentration autour d’une rentabilité stable.\n",
        "\n",
        "*   **Total income / Total expense** : La distribution est très asymétrique, avec une majorité d'entreprises ayant un ratio très faible.\n",
        "\n",
        "\n",
        "*   **Borrowing dependency**: La plupart des entreprises ont une dépendance aux emprunts concentrée autour de 0.37.\n",
        "\n",
        "*   **Retained Earnings to Total Assets** : La plupart des entreprises financent presque 100% de leurs actifs avec leurs bénéfices.\n",
        "\n",
        "\n",
        "*   **Total debt / Total net worth** : Cette variable a une dispersion plus large, avec certaines entreprises ayant des niveaux de dette extrêmement élevés, ce qui peut indiquer des risques financiers importants."
      ],
      "metadata": {
        "id": "Y5gzuDnXfLNT"
      }
    },
    {
      "cell_type": "code",
      "source": [
        "# Détection des corrélations (Evite redondance, identifie les tendances)\n",
        "correlation_matrix = df_selected.corr()"
      ],
      "metadata": {
        "id": "E_nR908yfM3-"
      },
      "execution_count": 20,
      "outputs": []
    },
    {
      "cell_type": "code",
      "source": [
        "# Heatmap des corrélations\n",
        "plt.figure(figsize=(8, 6))\n",
        "sns.heatmap(correlation_matrix, annot=True, cmap=\"coolwarm\", fmt=\".2f\", linewidths=0.5)\n",
        "plt.title(\"Matrice de Corrélation\")\n",
        "plt.show()"
      ],
      "metadata": {
        "id": "SOhzuU3OfSp2",
        "outputId": "3e702ba1-7e73-4a80-97e7-9d5cf9172f94",
        "colab": {
          "base_uri": "https://localhost:8080/",
          "height": 767
        }
      },
      "execution_count": 21,
      "outputs": [
        {
          "output_type": "display_data",
          "data": {
            "text/plain": [
              "<Figure size 800x600 with 2 Axes>"
            ],
            "image/png": "[encoded data removed]"
          },
          "metadata": {}
        }
      ]
    },
    {
      "cell_type": "markdown",
      "source": [
        "**Conclusion**: Les entreprises les plus performantes sont celles qui :\n",
        "\n",
        "*   Réduisent leurs coûts fixes pour augmenter la rentabilité\n",
        "*   Évitent une trop forte dépendance aux emprunts.\n",
        "*   Réduisent leurs coûts fixes pour augmenter la rentabilité.\n"
      ],
      "metadata": {
        "id": "8aYG4RaVfRS-"
      }
    }
  ]
}