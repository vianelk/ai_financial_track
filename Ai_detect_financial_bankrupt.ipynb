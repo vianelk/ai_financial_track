{
  "nbformat": 4,
  "nbformat_minor": 0,
  "metadata": {
    "colab": {
      "provenance": [],
      "include_colab_link": true
    },
    "kernelspec": {
      "name": "python3",
      "display_name": "Python 3"
    },
    "language_info": {
      "name": "python"
    }
  },
  "cells": [
    {
      "cell_type": "markdown",
      "metadata": {
        "id": "view-in-github",
        "colab_type": "text"
      },
      "source": [
        "<a href=\"https://colab.research.google.com/github/vianelk/ai_financial_track/blob/ZAC-ExplorationData/Ai_detect_financial_bankrupt.ipynb\" target=\"_parent\"><img src=\"https://colab.research.google.com/assets/colab-badge.svg\" alt=\"Open In Colab\"/></a>"
      ]
    },
    {
      "cell_type": "markdown",
      "source": [
        "\n",
        "# AI DETECTION OF COMPAGNY'S BANKRUPT"
      ],
      "metadata": {
        "id": "obiNJE7jMN4W"
      }
    },
    {
      "cell_type": "code",
      "source": [
        "!pip install dataiku-api-client"
      ],
      "metadata": {
        "id": "8In4WaWW6a0A",
        "outputId": "d26edf96-57a5-4987-e764-12c2a5a68200",
        "colab": {
          "base_uri": "https://localhost:8080/"
        }
      },
      "execution_count": null,
      "outputs": [
        {
          "output_type": "stream",
          "name": "stdout",
          "text": [
            "Collecting dataiku-api-client\n",
            "  Using cached dataiku_api_client-13.4.1-py3-none-any.whl\n",
            "Requirement already satisfied: requests<3 in /usr/local/lib/python3.11/dist-packages (from dataiku-api-client) (2.32.3)\n",
            "Requirement already satisfied: python-dateutil in /usr/local/lib/python3.11/dist-packages (from dataiku-api-client) (2.8.2)\n",
            "Requirement already satisfied: charset-normalizer<4,>=2 in /usr/local/lib/python3.11/dist-packages (from requests<3->dataiku-api-client) (3.4.1)\n",
            "Requirement already satisfied: idna<4,>=2.5 in /usr/local/lib/python3.11/dist-packages (from requests<3->dataiku-api-client) (3.10)\n",
            "Requirement already satisfied: urllib3<3,>=1.21.1 in /usr/local/lib/python3.11/dist-packages (from requests<3->dataiku-api-client) (2.3.0)\n",
            "Requirement already satisfied: certifi>=2017.4.17 in /usr/local/lib/python3.11/dist-packages (from requests<3->dataiku-api-client) (2025.1.31)\n",
            "Requirement already satisfied: six>=1.5 in /usr/local/lib/python3.11/dist-packages (from python-dateutil->dataiku-api-client) (1.17.0)\n",
            "Installing collected packages: dataiku-api-client\n",
            "Successfully installed dataiku-api-client-13.4.1\n"
          ]
        }
      ]
    },
    {
      "cell_type": "markdown",
      "source": [
        "## IMPORT OF LIBRARIES"
      ],
      "metadata": {
        "id": "R-xVoLMBLcux"
      }
    },
    {
      "cell_type": "code",
      "execution_count": null,
      "metadata": {
        "id": "iSbdkUttKxGN"
      },
      "outputs": [],
      "source": [
        "import kagglehub\n",
        "import os\n",
        "import numpy as np\n",
        "import pandas as pd\n",
        "import matplotlib.pyplot as plt\n",
        "import seaborn as sns\n",
        "import cv2\n",
        "import dataikuapi as dataiku\n"
      ]
    },
    {
      "cell_type": "markdown",
      "source": [
        "## IMPORT OF DATASET"
      ],
      "metadata": {
        "id": "if5WuULPPdP5"
      }
    },
    {
      "cell_type": "code",
      "source": [
        "path = kagglehub.dataset_download(\"fedesoriano/company-bankruptcy-prediction\")"
      ],
      "metadata": {
        "colab": {
          "base_uri": "https://localhost:8080/"
        },
        "id": "lkbfyqFdLhP0",
        "outputId": "36021a7d-3ac4-42e3-d355-73b62e93c4e5"
      },
      "execution_count": null,
      "outputs": [
        {
          "output_type": "stream",
          "name": "stdout",
          "text": [
            "Warning: Looks like you're using an outdated `kagglehub` version (installed: 0.3.9), please consider upgrading to the latest version (0.3.10).\n",
            "Downloading from https://www.kaggle.com/api/v1/datasets/download/fedesoriano/company-bankruptcy-prediction?dataset_version_number=2...\n"
          ]
        },
        {
          "output_type": "stream",
          "name": "stderr",
          "text": [
            "100%|██████████| 4.63M/4.63M [00:00<00:00, 6.42MB/s]"
          ]
        },
        {
          "output_type": "stream",
          "name": "stdout",
          "text": [
            "Extracting files...\n"
          ]
        },
        {
          "output_type": "stream",
          "name": "stderr",
          "text": [
            "\n"
          ]
        }
      ]
    },
    {
      "cell_type": "code",
      "source": [
        "DATASET_PATH = './datasets'"
      ],
      "metadata": {
        "id": "VC177EWcN_kF"
      },
      "execution_count": null,
      "outputs": []
    },
    {
      "cell_type": "code",
      "source": [
        "!mkdir -p {DATASET_PATH}\n",
        "\n",
        "!cp -r {path}/* {DATASET_PATH}/"
      ],
      "metadata": {
        "id": "FBGV9ZnfN-o9"
      },
      "execution_count": null,
      "outputs": []
    },
    {
      "cell_type": "code",
      "source": [
        "df = pd.read_csv(\"datasets/data.csv\")\n",
        "\n",
        "df.head()"
      ],
      "metadata": {
        "colab": {
          "base_uri": "https://localhost:8080/",
          "height": 342
        },
        "id": "6UmuR4xSOIUr",
        "outputId": "18fdd72e-2a42-4a4c-912e-858479142fbe"
      },
      "execution_count": null,
      "outputs": [
        {
          "output_type": "execute_result",
          "data": {
            "text/plain": [
              "   Bankrupt?   ROA(C) before interest and depreciation before interest  \\\n",
              "0          1                                           0.370594          \n",
              "1          1                                           0.464291          \n",
              "2          1                                           0.426071          \n",
              "3          1                                           0.399844          \n",
              "4          1                                           0.465022          \n",
              "\n",
              "    ROA(A) before interest and % after tax  \\\n",
              "0                                 0.424389   \n",
              "1                                 0.538214   \n",
              "2                                 0.499019   \n",
              "3                                 0.451265   \n",
              "4                                 0.538432   \n",
              "\n",
              "    ROA(B) before interest and depreciation after tax  \\\n",
              "0                                           0.405750    \n",
              "1                                           0.516730    \n",
              "2                                           0.472295    \n",
              "3                                           0.457733    \n",
              "4                                           0.522298    \n",
              "\n",
              "    Operating Gross Margin   Realized Sales Gross Margin  \\\n",
              "0                 0.601457                      0.601457   \n",
              "1                 0.610235                      0.610235   \n",
              "2                 0.601450                      0.601364   \n",
              "3                 0.583541                      0.583541   \n",
              "4                 0.598783                      0.598783   \n",
              "\n",
              "    Operating Profit Rate   Pre-tax net Interest Rate  \\\n",
              "0                0.998969                    0.796887   \n",
              "1                0.998946                    0.797380   \n",
              "2                0.998857                    0.796403   \n",
              "3                0.998700                    0.796967   \n",
              "4                0.998973                    0.797366   \n",
              "\n",
              "    After-tax net Interest Rate   Non-industry income and expenditure/revenue  \\\n",
              "0                      0.808809                                      0.302646   \n",
              "1                      0.809301                                      0.303556   \n",
              "2                      0.808388                                      0.302035   \n",
              "3                      0.808966                                      0.303350   \n",
              "4                      0.809304                                      0.303475   \n",
              "\n",
              "   ...   Net Income to Total Assets   Total assets to GNP price  \\\n",
              "0  ...                     0.716845                    0.009219   \n",
              "1  ...                     0.795297                    0.008323   \n",
              "2  ...                     0.774670                    0.040003   \n",
              "3  ...                     0.739555                    0.003252   \n",
              "4  ...                     0.795016                    0.003878   \n",
              "\n",
              "    No-credit Interval   Gross Profit to Sales  \\\n",
              "0             0.622879                0.601453   \n",
              "1             0.623652                0.610237   \n",
              "2             0.623841                0.601449   \n",
              "3             0.622929                0.583538   \n",
              "4             0.623521                0.598782   \n",
              "\n",
              "    Net Income to Stockholder's Equity   Liability to Equity  \\\n",
              "0                             0.827890              0.290202   \n",
              "1                             0.839969              0.283846   \n",
              "2                             0.836774              0.290189   \n",
              "3                             0.834697              0.281721   \n",
              "4                             0.839973              0.278514   \n",
              "\n",
              "    Degree of Financial Leverage (DFL)  \\\n",
              "0                             0.026601   \n",
              "1                             0.264577   \n",
              "2                             0.026555   \n",
              "3                             0.026697   \n",
              "4                             0.024752   \n",
              "\n",
              "    Interest Coverage Ratio (Interest expense to EBIT)   Net Income Flag  \\\n",
              "0                                           0.564050                   1   \n",
              "1                                           0.570175                   1   \n",
              "2                                           0.563706                   1   \n",
              "3                                           0.564663                   1   \n",
              "4                                           0.575617                   1   \n",
              "\n",
              "    Equity to Liability  \n",
              "0              0.016469  \n",
              "1              0.020794  \n",
              "2              0.016474  \n",
              "3              0.023982  \n",
              "4              0.035490  \n",
              "\n",
              "[5 rows x 96 columns]"
            ],
            "text/html": [
              "\n",
              "  <div id=\"df-366a09f3-fba6-41ae-9e87-e62b4d07c57b\" class=\"colab-df-container\">\n",
              "    <div>\n",
              "<style scoped>\n",
              "    .dataframe tbody tr th:only-of-type {\n",
              "        vertical-align: middle;\n",
              "    }\n",
              "\n",
              "    .dataframe tbody tr th {\n",
              "        vertical-align: top;\n",
              "    }\n",
              "\n",
              "    .dataframe thead th {\n",
              "        text-align: right;\n",
              "    }\n",
              "</style>\n",
              "<table border=\"1\" class=\"dataframe\">\n",
              "  <thead>\n",
              "    <tr style=\"text-align: right;\">\n",
              "      <th></th>\n",
              "      <th>Bankrupt?</th>\n",
              "      <th>ROA(C) before interest and depreciation before interest</th>\n",
              "      <th>ROA(A) before interest and % after tax</th>\n",
              "      <th>ROA(B) before interest and depreciation after tax</th>\n",
              "      <th>Operating Gross Margin</th>\n",
              "      <th>Realized Sales Gross Margin</th>\n",
              "      <th>Operating Profit Rate</th>\n",
              "      <th>Pre-tax net Interest Rate</th>\n",
              "      <th>After-tax net Interest Rate</th>\n",
              "      <th>Non-industry income and expenditure/revenue</th>\n",
              "      <th>...</th>\n",
              "      <th>Net Income to Total Assets</th>\n",
              "      <th>Total assets to GNP price</th>\n",
              "      <th>No-credit Interval</th>\n",
              "      <th>Gross Profit to Sales</th>\n",
              "      <th>Net Income to Stockholder's Equity</th>\n",
              "      <th>Liability to Equity</th>\n",
              "      <th>Degree of Financial Leverage (DFL)</th>\n",
              "      <th>Interest Coverage Ratio (Interest expense to EBIT)</th>\n",
              "      <th>Net Income Flag</th>\n",
              "      <th>Equity to Liability</th>\n",
              "    </tr>\n",
              "  </thead>\n",
              "  <tbody>\n",
              "    <tr>\n",
              "      <th>0</th>\n",
              "      <td>1</td>\n",
              "      <td>0.370594</td>\n",
              "      <td>0.424389</td>\n",
              "      <td>0.405750</td>\n",
              "      <td>0.601457</td>\n",
              "      <td>0.601457</td>\n",
              "      <td>0.998969</td>\n",
              "      <td>0.796887</td>\n",
              "      <td>0.808809</td>\n",
              "      <td>0.302646</td>\n",
              "      <td>...</td>\n",
              "      <td>0.716845</td>\n",
              "      <td>0.009219</td>\n",
              "      <td>0.622879</td>\n",
              "      <td>0.601453</td>\n",
              "      <td>0.827890</td>\n",
              "      <td>0.290202</td>\n",
              "      <td>0.026601</td>\n",
              "      <td>0.564050</td>\n",
              "      <td>1</td>\n",
              "      <td>0.016469</td>\n",
              "    </tr>\n",
              "    <tr>\n",
              "      <th>1</th>\n",
              "      <td>1</td>\n",
              "      <td>0.464291</td>\n",
              "      <td>0.538214</td>\n",
              "      <td>0.516730</td>\n",
              "      <td>0.610235</td>\n",
              "      <td>0.610235</td>\n",
              "      <td>0.998946</td>\n",
              "      <td>0.797380</td>\n",
              "      <td>0.809301</td>\n",
              "      <td>0.303556</td>\n",
              "      <td>...</td>\n",
              "      <td>0.795297</td>\n",
              "      <td>0.008323</td>\n",
              "      <td>0.623652</td>\n",
              "      <td>0.610237</td>\n",
              "      <td>0.839969</td>\n",
              "      <td>0.283846</td>\n",
              "      <td>0.264577</td>\n",
              "      <td>0.570175</td>\n",
              "      <td>1</td>\n",
              "      <td>0.020794</td>\n",
              "    </tr>\n",
              "    <tr>\n",
              "      <th>2</th>\n",
              "      <td>1</td>\n",
              "      <td>0.426071</td>\n",
              "      <td>0.499019</td>\n",
              "      <td>0.472295</td>\n",
              "      <td>0.601450</td>\n",
              "      <td>0.601364</td>\n",
              "      <td>0.998857</td>\n",
              "      <td>0.796403</td>\n",
              "      <td>0.808388</td>\n",
              "      <td>0.302035</td>\n",
              "      <td>...</td>\n",
              "      <td>0.774670</td>\n",
              "      <td>0.040003</td>\n",
              "      <td>0.623841</td>\n",
              "      <td>0.601449</td>\n",
              "      <td>0.836774</td>\n",
              "      <td>0.290189</td>\n",
              "      <td>0.026555</td>\n",
              "      <td>0.563706</td>\n",
              "      <td>1</td>\n",
              "      <td>0.016474</td>\n",
              "    </tr>\n",
              "    <tr>\n",
              "      <th>3</th>\n",
              "      <td>1</td>\n",
              "      <td>0.399844</td>\n",
              "      <td>0.451265</td>\n",
              "      <td>0.457733</td>\n",
              "      <td>0.583541</td>\n",
              "      <td>0.583541</td>\n",
              "      <td>0.998700</td>\n",
              "      <td>0.796967</td>\n",
              "      <td>0.808966</td>\n",
              "      <td>0.303350</td>\n",
              "      <td>...</td>\n",
              "      <td>0.739555</td>\n",
              "      <td>0.003252</td>\n",
              "      <td>0.622929</td>\n",
              "      <td>0.583538</td>\n",
              "      <td>0.834697</td>\n",
              "      <td>0.281721</td>\n",
              "      <td>0.026697</td>\n",
              "      <td>0.564663</td>\n",
              "      <td>1</td>\n",
              "      <td>0.023982</td>\n",
              "    </tr>\n",
              "    <tr>\n",
              "      <th>4</th>\n",
              "      <td>1</td>\n",
              "      <td>0.465022</td>\n",
              "      <td>0.538432</td>\n",
              "      <td>0.522298</td>\n",
              "      <td>0.598783</td>\n",
              "      <td>0.598783</td>\n",
              "      <td>0.998973</td>\n",
              "      <td>0.797366</td>\n",
              "      <td>0.809304</td>\n",
              "      <td>0.303475</td>\n",
              "      <td>...</td>\n",
              "      <td>0.795016</td>\n",
              "      <td>0.003878</td>\n",
              "      <td>0.623521</td>\n",
              "      <td>0.598782</td>\n",
              "      <td>0.839973</td>\n",
              "      <td>0.278514</td>\n",
              "      <td>0.024752</td>\n",
              "      <td>0.575617</td>\n",
              "      <td>1</td>\n",
              "      <td>0.035490</td>\n",
              "    </tr>\n",
              "  </tbody>\n",
              "</table>\n",
              "<p>5 rows × 96 columns</p>\n",
              "</div>\n",
              "    <div class=\"colab-df-buttons\">\n",
              "\n",
              "  <div class=\"colab-df-container\">\n",
              "    <button class=\"colab-df-convert\" onclick=\"convertToInteractive('df-366a09f3-fba6-41ae-9e87-e62b4d07c57b')\"\n",
              "            title=\"Convert this dataframe to an interactive table.\"\n",
              "            style=\"display:none;\">\n",
              "\n",
              "  <svg xmlns=\"http://www.w3.org/2000/svg\" height=\"24px\" viewBox=\"0 -960 960 960\">\n",
              "    <path d=\"M120-120v-720h720v720H120Zm60-500h600v-160H180v160Zm220 220h160v-160H400v160Zm0 220h160v-160H400v160ZM180-400h160v-160H180v160Zm440 0h160v-160H620v160ZM180-180h160v-160H180v160Zm440 0h160v-160H620v160Z\"/>\n",
              "  </svg>\n",
              "    </button>\n",
              "\n",
              "  <style>\n",
              "    .colab-df-container {\n",
              "      display:flex;\n",
              "      gap: 12px;\n",
              "    }\n",
              "\n",
              "    .colab-df-convert {\n",
              "      background-color: #E8F0FE;\n",
              "      border: none;\n",
              "      border-radius: 50%;\n",
              "      cursor: pointer;\n",
              "      display: none;\n",
              "      fill: #1967D2;\n",
              "      height: 32px;\n",
              "      padding: 0 0 0 0;\n",
              "      width: 32px;\n",
              "    }\n",
              "\n",
              "    .colab-df-convert:hover {\n",
              "      background-color: #E2EBFA;\n",
              "      box-shadow: 0px 1px 2px rgba(60, 64, 67, 0.3), 0px 1px 3px 1px rgba(60, 64, 67, 0.15);\n",
              "      fill: #174EA6;\n",
              "    }\n",
              "\n",
              "    .colab-df-buttons div {\n",
              "      margin-bottom: 4px;\n",
              "    }\n",
              "\n",
              "    [theme=dark] .colab-df-convert {\n",
              "      background-color: #3B4455;\n",
              "      fill: #D2E3FC;\n",
              "    }\n",
              "\n",
              "    [theme=dark] .colab-df-convert:hover {\n",
              "      background-color: #434B5C;\n",
              "      box-shadow: 0px 1px 3px 1px rgba(0, 0, 0, 0.15);\n",
              "      filter: drop-shadow(0px 1px 2px rgba(0, 0, 0, 0.3));\n",
              "      fill: #FFFFFF;\n",
              "    }\n",
              "  </style>\n",
              "\n",
              "    <script>\n",
              "      const buttonEl =\n",
              "        document.querySelector('#df-366a09f3-fba6-41ae-9e87-e62b4d07c57b button.colab-df-convert');\n",
              "      buttonEl.style.display =\n",
              "        google.colab.kernel.accessAllowed ? 'block' : 'none';\n",
              "\n",
              "      async function convertToInteractive(key) {\n",
              "        const element = document.querySelector('#df-366a09f3-fba6-41ae-9e87-e62b4d07c57b');\n",
              "        const dataTable =\n",
              "          await google.colab.kernel.invokeFunction('convertToInteractive',\n",
              "                                                    [key], {});\n",
              "        if (!dataTable) return;\n",
              "\n",
              "        const docLinkHtml = 'Like what you see? Visit the ' +\n",
              "          '<a target=\"_blank\" href=https://colab.research.google.com/notebooks/data_table.ipynb>data table notebook</a>'\n",
              "          + ' to learn more about interactive tables.';\n",
              "        element.innerHTML = '';\n",
              "        dataTable['output_type'] = 'display_data';\n",
              "        await google.colab.output.renderOutput(dataTable, element);\n",
              "        const docLink = document.createElement('div');\n",
              "        docLink.innerHTML = docLinkHtml;\n",
              "        element.appendChild(docLink);\n",
              "      }\n",
              "    </script>\n",
              "  </div>\n",
              "\n",
              "\n",
              "<div id=\"df-07ef2bb6-add1-47ea-8447-02ff8a6b69e2\">\n",
              "  <button class=\"colab-df-quickchart\" onclick=\"quickchart('df-07ef2bb6-add1-47ea-8447-02ff8a6b69e2')\"\n",
              "            title=\"Suggest charts\"\n",
              "            style=\"display:none;\">\n",
              "\n",
              "<svg xmlns=\"http://www.w3.org/2000/svg\" height=\"24px\"viewBox=\"0 0 24 24\"\n",
              "     width=\"24px\">\n",
              "    <g>\n",
              "        <path d=\"M19 3H5c-1.1 0-2 .9-2 2v14c0 1.1.9 2 2 2h14c1.1 0 2-.9 2-2V5c0-1.1-.9-2-2-2zM9 17H7v-7h2v7zm4 0h-2V7h2v10zm4 0h-2v-4h2v4z\"/>\n",
              "    </g>\n",
              "</svg>\n",
              "  </button>\n",
              "\n",
              "<style>\n",
              "  .colab-df-quickchart {\n",
              "      --bg-color: #E8F0FE;\n",
              "      --fill-color: #1967D2;\n",
              "      --hover-bg-color: #E2EBFA;\n",
              "      --hover-fill-color: #174EA6;\n",
              "      --disabled-fill-color: #AAA;\n",
              "      --disabled-bg-color: #DDD;\n",
              "  }\n",
              "\n",
              "  [theme=dark] .colab-df-quickchart {\n",
              "      --bg-color: #3B4455;\n",
              "      --fill-color: #D2E3FC;\n",
              "      --hover-bg-color: #434B5C;\n",
              "      --hover-fill-color: #FFFFFF;\n",
              "      --disabled-bg-color: #3B4455;\n",
              "      --disabled-fill-color: #666;\n",
              "  }\n",
              "\n",
              "  .colab-df-quickchart {\n",
              "    background-color: var(--bg-color);\n",
              "    border: none;\n",
              "    border-radius: 50%;\n",
              "    cursor: pointer;\n",
              "    display: none;\n",
              "    fill: var(--fill-color);\n",
              "    height: 32px;\n",
              "    padding: 0;\n",
              "    width: 32px;\n",
              "  }\n",
              "\n",
              "  .colab-df-quickchart:hover {\n",
              "    background-color: var(--hover-bg-color);\n",
              "    box-shadow: 0 1px 2px rgba(60, 64, 67, 0.3), 0 1px 3px 1px rgba(60, 64, 67, 0.15);\n",
              "    fill: var(--button-hover-fill-color);\n",
              "  }\n",
              "\n",
              "  .colab-df-quickchart-complete:disabled,\n",
              "  .colab-df-quickchart-complete:disabled:hover {\n",
              "    background-color: var(--disabled-bg-color);\n",
              "    fill: var(--disabled-fill-color);\n",
              "    box-shadow: none;\n",
              "  }\n",
              "\n",
              "  .colab-df-spinner {\n",
              "    border: 2px solid var(--fill-color);\n",
              "    border-color: transparent;\n",
              "    border-bottom-color: var(--fill-color);\n",
              "    animation:\n",
              "      spin 1s steps(1) infinite;\n",
              "  }\n",
              "\n",
              "  @keyframes spin {\n",
              "    0% {\n",
              "      border-color: transparent;\n",
              "      border-bottom-color: var(--fill-color);\n",
              "      border-left-color: var(--fill-color);\n",
              "    }\n",
              "    20% {\n",
              "      border-color: transparent;\n",
              "      border-left-color: var(--fill-color);\n",
              "      border-top-color: var(--fill-color);\n",
              "    }\n",
              "    30% {\n",
              "      border-color: transparent;\n",
              "      border-left-color: var(--fill-color);\n",
              "      border-top-color: var(--fill-color);\n",
              "      border-right-color: var(--fill-color);\n",
              "    }\n",
              "    40% {\n",
              "      border-color: transparent;\n",
              "      border-right-color: var(--fill-color);\n",
              "      border-top-color: var(--fill-color);\n",
              "    }\n",
              "    60% {\n",
              "      border-color: transparent;\n",
              "      border-right-color: var(--fill-color);\n",
              "    }\n",
              "    80% {\n",
              "      border-color: transparent;\n",
              "      border-right-color: var(--fill-color);\n",
              "      border-bottom-color: var(--fill-color);\n",
              "    }\n",
              "    90% {\n",
              "      border-color: transparent;\n",
              "      border-bottom-color: var(--fill-color);\n",
              "    }\n",
              "  }\n",
              "</style>\n",
              "\n",
              "  <script>\n",
              "    async function quickchart(key) {\n",
              "      const quickchartButtonEl =\n",
              "        document.querySelector('#' + key + ' button');\n",
              "      quickchartButtonEl.disabled = true;  // To prevent multiple clicks.\n",
              "      quickchartButtonEl.classList.add('colab-df-spinner');\n",
              "      try {\n",
              "        const charts = await google.colab.kernel.invokeFunction(\n",
              "            'suggestCharts', [key], {});\n",
              "      } catch (error) {\n",
              "        console.error('Error during call to suggestCharts:', error);\n",
              "      }\n",
              "      quickchartButtonEl.classList.remove('colab-df-spinner');\n",
              "      quickchartButtonEl.classList.add('colab-df-quickchart-complete');\n",
              "    }\n",
              "    (() => {\n",
              "      let quickchartButtonEl =\n",
              "        document.querySelector('#df-07ef2bb6-add1-47ea-8447-02ff8a6b69e2 button');\n",
              "      quickchartButtonEl.style.display =\n",
              "        google.colab.kernel.accessAllowed ? 'block' : 'none';\n",
              "    })();\n",
              "  </script>\n",
              "</div>\n",
              "\n",
              "    </div>\n",
              "  </div>\n"
            ],
            "application/vnd.google.colaboratory.intrinsic+json": {
              "type": "dataframe",
              "variable_name": "df"
            }
          },
          "metadata": {},
          "execution_count": 8
        }
      ]
    },
    {
      "cell_type": "markdown",
      "source": [
        "## DATA TRANSFORMATION\n"
      ],
      "metadata": {
        "id": "zuc-nxeEP4q4"
      }
    },
    {
      "cell_type": "code",
      "source": [
        "# Nettoyage des noms de colonnes (remplacement des espaces et des caractères spéciaux)\n",
        "df.columns = df.columns.str.strip().str.replace(' ', '_').str.replace('/', '_').str.replace('-', '_').str.replace('(', '_').str.replace(')', '_')"
      ],
      "metadata": {
        "id": "HruEsOkDFTAe"
      },
      "execution_count": null,
      "outputs": []
    },
    {
      "cell_type": "code",
      "source": [
        "#Observer le type de données\n",
        "df.info()"
      ],
      "metadata": {
        "colab": {
          "base_uri": "https://localhost:8080/"
        },
        "id": "U1t_YX_9pyKh",
        "outputId": "962ba304-3905-4849-ab57-4dd2c3b53db7"
      },
      "execution_count": null,
      "outputs": [
        {
          "output_type": "stream",
          "name": "stdout",
          "text": [
            "<class 'pandas.core.frame.DataFrame'>\n",
            "RangeIndex: 6819 entries, 0 to 6818\n",
            "Data columns (total 96 columns):\n",
            " #   Column                                                   Non-Null Count  Dtype  \n",
            "---  ------                                                   --------------  -----  \n",
            " 0   Bankrupt?                                                6819 non-null   int64  \n",
            " 1   ROA_C__before_interest_and_depreciation_before_interest  6819 non-null   float64\n",
            " 2   ROA_A__before_interest_and_%_after_tax                   6819 non-null   float64\n",
            " 3   ROA_B__before_interest_and_depreciation_after_tax        6819 non-null   float64\n",
            " 4   Operating_Gross_Margin                                   6819 non-null   float64\n",
            " 5   Realized_Sales_Gross_Margin                              6819 non-null   float64\n",
            " 6   Operating_Profit_Rate                                    6819 non-null   float64\n",
            " 7   Pre_tax_net_Interest_Rate                                6819 non-null   float64\n",
            " 8   After_tax_net_Interest_Rate                              6819 non-null   float64\n",
            " 9   Non_industry_income_and_expenditure_revenue              6819 non-null   float64\n",
            " 10  Continuous_interest_rate__after_tax_                     6819 non-null   float64\n",
            " 11  Operating_Expense_Rate                                   6819 non-null   float64\n",
            " 12  Research_and_development_expense_rate                    6819 non-null   float64\n",
            " 13  Cash_flow_rate                                           6819 non-null   float64\n",
            " 14  Interest_bearing_debt_interest_rate                      6819 non-null   float64\n",
            " 15  Tax_rate__A_                                             6819 non-null   float64\n",
            " 16  Net_Value_Per_Share__B_                                  6819 non-null   float64\n",
            " 17  Net_Value_Per_Share__A_                                  6819 non-null   float64\n",
            " 18  Net_Value_Per_Share__C_                                  6819 non-null   float64\n",
            " 19  Persistent_EPS_in_the_Last_Four_Seasons                  6819 non-null   float64\n",
            " 20  Cash_Flow_Per_Share                                      6819 non-null   float64\n",
            " 21  Revenue_Per_Share__Yuan_¥_                               6819 non-null   float64\n",
            " 22  Operating_Profit_Per_Share__Yuan_¥_                      6819 non-null   float64\n",
            " 23  Per_Share_Net_profit_before_tax__Yuan_¥_                 6819 non-null   float64\n",
            " 24  Realized_Sales_Gross_Profit_Growth_Rate                  6819 non-null   float64\n",
            " 25  Operating_Profit_Growth_Rate                             6819 non-null   float64\n",
            " 26  After_tax_Net_Profit_Growth_Rate                         6819 non-null   float64\n",
            " 27  Regular_Net_Profit_Growth_Rate                           6819 non-null   float64\n",
            " 28  Continuous_Net_Profit_Growth_Rate                        6819 non-null   float64\n",
            " 29  Total_Asset_Growth_Rate                                  6819 non-null   float64\n",
            " 30  Net_Value_Growth_Rate                                    6819 non-null   float64\n",
            " 31  Total_Asset_Return_Growth_Rate_Ratio                     6819 non-null   float64\n",
            " 32  Cash_Reinvestment_%                                      6819 non-null   float64\n",
            " 33  Current_Ratio                                            6819 non-null   float64\n",
            " 34  Quick_Ratio                                              6819 non-null   float64\n",
            " 35  Interest_Expense_Ratio                                   6819 non-null   float64\n",
            " 36  Total_debt_Total_net_worth                               6819 non-null   float64\n",
            " 37  Debt_ratio_%                                             6819 non-null   float64\n",
            " 38  Net_worth_Assets                                         6819 non-null   float64\n",
            " 39  Long_term_fund_suitability_ratio__A_                     6819 non-null   float64\n",
            " 40  Borrowing_dependency                                     6819 non-null   float64\n",
            " 41  Contingent_liabilities_Net_worth                         6819 non-null   float64\n",
            " 42  Operating_profit_Paid_in_capital                         6819 non-null   float64\n",
            " 43  Net_profit_before_tax_Paid_in_capital                    6819 non-null   float64\n",
            " 44  Inventory_and_accounts_receivable_Net_value              6819 non-null   float64\n",
            " 45  Total_Asset_Turnover                                     6819 non-null   float64\n",
            " 46  Accounts_Receivable_Turnover                             6819 non-null   float64\n",
            " 47  Average_Collection_Days                                  6819 non-null   float64\n",
            " 48  Inventory_Turnover_Rate__times_                          6819 non-null   float64\n",
            " 49  Fixed_Assets_Turnover_Frequency                          6819 non-null   float64\n",
            " 50  Net_Worth_Turnover_Rate__times_                          6819 non-null   float64\n",
            " 51  Revenue_per_person                                       6819 non-null   float64\n",
            " 52  Operating_profit_per_person                              6819 non-null   float64\n",
            " 53  Allocation_rate_per_person                               6819 non-null   float64\n",
            " 54  Working_Capital_to_Total_Assets                          6819 non-null   float64\n",
            " 55  Quick_Assets_Total_Assets                                6819 non-null   float64\n",
            " 56  Current_Assets_Total_Assets                              6819 non-null   float64\n",
            " 57  Cash_Total_Assets                                        6819 non-null   float64\n",
            " 58  Quick_Assets_Current_Liability                           6819 non-null   float64\n",
            " 59  Cash_Current_Liability                                   6819 non-null   float64\n",
            " 60  Current_Liability_to_Assets                              6819 non-null   float64\n",
            " 61  Operating_Funds_to_Liability                             6819 non-null   float64\n",
            " 62  Inventory_Working_Capital                                6819 non-null   float64\n",
            " 63  Inventory_Current_Liability                              6819 non-null   float64\n",
            " 64  Current_Liabilities_Liability                            6819 non-null   float64\n",
            " 65  Working_Capital_Equity                                   6819 non-null   float64\n",
            " 66  Current_Liabilities_Equity                               6819 non-null   float64\n",
            " 67  Long_term_Liability_to_Current_Assets                    6819 non-null   float64\n",
            " 68  Retained_Earnings_to_Total_Assets                        6819 non-null   float64\n",
            " 69  Total_income_Total_expense                               6819 non-null   float64\n",
            " 70  Total_expense_Assets                                     6819 non-null   float64\n",
            " 71  Current_Asset_Turnover_Rate                              6819 non-null   float64\n",
            " 72  Quick_Asset_Turnover_Rate                                6819 non-null   float64\n",
            " 73  Working_capitcal_Turnover_Rate                           6819 non-null   float64\n",
            " 74  Cash_Turnover_Rate                                       6819 non-null   float64\n",
            " 75  Cash_Flow_to_Sales                                       6819 non-null   float64\n",
            " 76  Fixed_Assets_to_Assets                                   6819 non-null   float64\n",
            " 77  Current_Liability_to_Liability                           6819 non-null   float64\n",
            " 78  Current_Liability_to_Equity                              6819 non-null   float64\n",
            " 79  Equity_to_Long_term_Liability                            6819 non-null   float64\n",
            " 80  Cash_Flow_to_Total_Assets                                6819 non-null   float64\n",
            " 81  Cash_Flow_to_Liability                                   6819 non-null   float64\n",
            " 82  CFO_to_Assets                                            6819 non-null   float64\n",
            " 83  Cash_Flow_to_Equity                                      6819 non-null   float64\n",
            " 84  Current_Liability_to_Current_Assets                      6819 non-null   float64\n",
            " 85  Liability_Assets_Flag                                    6819 non-null   int64  \n",
            " 86  Net_Income_to_Total_Assets                               6819 non-null   float64\n",
            " 87  Total_assets_to_GNP_price                                6819 non-null   float64\n",
            " 88  No_credit_Interval                                       6819 non-null   float64\n",
            " 89  Gross_Profit_to_Sales                                    6819 non-null   float64\n",
            " 90  Net_Income_to_Stockholder's_Equity                       6819 non-null   float64\n",
            " 91  Liability_to_Equity                                      6819 non-null   float64\n",
            " 92  Degree_of_Financial_Leverage__DFL_                       6819 non-null   float64\n",
            " 93  Interest_Coverage_Ratio__Interest_expense_to_EBIT_       6819 non-null   float64\n",
            " 94  Net_Income_Flag                                          6819 non-null   int64  \n",
            " 95  Equity_to_Liability                                      6819 non-null   float64\n",
            "dtypes: float64(93), int64(3)\n",
            "memory usage: 5.0 MB\n"
          ]
        }
      ]
    },
    {
      "cell_type": "code",
      "source": [
        " #Vérification de valeurs nulles dans le dataset\n",
        " df.isnull().sum()"
      ],
      "metadata": {
        "colab": {
          "base_uri": "https://localhost:8080/",
          "height": 458
        },
        "id": "paSa-Ed_QcIM",
        "outputId": "e9bf7c0a-dd24-49eb-819d-a75823fa1a64"
      },
      "execution_count": null,
      "outputs": [
        {
          "output_type": "execute_result",
          "data": {
            "text/plain": [
              "Bankrupt?                                                  0\n",
              "ROA_C__before_interest_and_depreciation_before_interest    0\n",
              "ROA_A__before_interest_and_%_after_tax                     0\n",
              "ROA_B__before_interest_and_depreciation_after_tax          0\n",
              "Operating_Gross_Margin                                     0\n",
              "                                                          ..\n",
              "Liability_to_Equity                                        0\n",
              "Degree_of_Financial_Leverage__DFL_                         0\n",
              "Interest_Coverage_Ratio__Interest_expense_to_EBIT_         0\n",
              "Net_Income_Flag                                            0\n",
              "Equity_to_Liability                                        0\n",
              "Length: 96, dtype: int64"
            ],
            "text/html": [
              "<div>\n",
              "<style scoped>\n",
              "    .dataframe tbody tr th:only-of-type {\n",
              "        vertical-align: middle;\n",
              "    }\n",
              "\n",
              "    .dataframe tbody tr th {\n",
              "        vertical-align: top;\n",
              "    }\n",
              "\n",
              "    .dataframe thead th {\n",
              "        text-align: right;\n",
              "    }\n",
              "</style>\n",
              "<table border=\"1\" class=\"dataframe\">\n",
              "  <thead>\n",
              "    <tr style=\"text-align: right;\">\n",
              "      <th></th>\n",
              "      <th>0</th>\n",
              "    </tr>\n",
              "  </thead>\n",
              "  <tbody>\n",
              "    <tr>\n",
              "      <th>Bankrupt?</th>\n",
              "      <td>0</td>\n",
              "    </tr>\n",
              "    <tr>\n",
              "      <th>ROA_C__before_interest_and_depreciation_before_interest</th>\n",
              "      <td>0</td>\n",
              "    </tr>\n",
              "    <tr>\n",
              "      <th>ROA_A__before_interest_and_%_after_tax</th>\n",
              "      <td>0</td>\n",
              "    </tr>\n",
              "    <tr>\n",
              "      <th>ROA_B__before_interest_and_depreciation_after_tax</th>\n",
              "      <td>0</td>\n",
              "    </tr>\n",
              "    <tr>\n",
              "      <th>Operating_Gross_Margin</th>\n",
              "      <td>0</td>\n",
              "    </tr>\n",
              "    <tr>\n",
              "      <th>...</th>\n",
              "      <td>...</td>\n",
              "    </tr>\n",
              "    <tr>\n",
              "      <th>Liability_to_Equity</th>\n",
              "      <td>0</td>\n",
              "    </tr>\n",
              "    <tr>\n",
              "      <th>Degree_of_Financial_Leverage__DFL_</th>\n",
              "      <td>0</td>\n",
              "    </tr>\n",
              "    <tr>\n",
              "      <th>Interest_Coverage_Ratio__Interest_expense_to_EBIT_</th>\n",
              "      <td>0</td>\n",
              "    </tr>\n",
              "    <tr>\n",
              "      <th>Net_Income_Flag</th>\n",
              "      <td>0</td>\n",
              "    </tr>\n",
              "    <tr>\n",
              "      <th>Equity_to_Liability</th>\n",
              "      <td>0</td>\n",
              "    </tr>\n",
              "  </tbody>\n",
              "</table>\n",
              "<p>96 rows × 1 columns</p>\n",
              "</div><br><label><b>dtype:</b> int64</label>"
            ]
          },
          "metadata": {},
          "execution_count": 11
        }
      ]
    },
    {
      "cell_type": "code",
      "source": [
        "#Recherche de colonne en double\n",
        "df.duplicated().sum()"
      ],
      "metadata": {
        "colab": {
          "base_uri": "https://localhost:8080/"
        },
        "id": "TiAFmW9vp3KS",
        "outputId": "2352c82f-acab-4e66-d255-3562ad56955b"
      },
      "execution_count": null,
      "outputs": [
        {
          "output_type": "execute_result",
          "data": {
            "text/plain": [
              "0"
            ]
          },
          "metadata": {},
          "execution_count": 12
        }
      ]
    },
    {
      "cell_type": "code",
      "source": [
        "# Recherche de valeur NAN\n",
        "[print(col) for col in df if df[col].isna().sum() > 0]"
      ],
      "metadata": {
        "colab": {
          "base_uri": "https://localhost:8080/"
        },
        "id": "PygWcCuvqDC_",
        "outputId": "ccf2658a-57ed-4f3b-a315-2bca1bd2efef"
      },
      "execution_count": null,
      "outputs": [
        {
          "output_type": "execute_result",
          "data": {
            "text/plain": [
              "[]"
            ]
          },
          "metadata": {},
          "execution_count": 13
        }
      ]
    },
    {
      "cell_type": "markdown",
      "source": [
        "## DATA EXPLORATION"
      ],
      "metadata": {
        "id": "8Vq_Sj-XsqUF"
      }
    },
    {
      "cell_type": "markdown",
      "source": [
        "**X86 - Net Income to Total Assets (Rentabilité des actifs)**\n",
        "<br>→ Mesure le profit net par rapport aux actifs.\n",
        "<br>✔ Élevé = Bonne rentabilité et efficacité.\n",
        "<br>✖ Faible/Négatif = Risque de faillite.\n",
        "\n",
        "<br>**X69 - Total income / Total expense (Revenus / Dépenses)**\n",
        "<br>→ Compare les revenus aux dépenses.\n",
        "<br>✔ > 1 = Entreprise viable.\n",
        "<br>✖ < 1 = Dépenses supérieures aux revenus, risque de pertes.\n",
        "\n",
        "<br>**X40 - Borrowing dependency (Dépendance aux emprunts)**\n",
        "<br>→ Indique la part des coûts financiers liée aux emprunts.\n",
        "<br>✔ Faible = Moins de risque financier.\n",
        "<br>✖ Élevé = Forte dépendance, risque accru en cas de baisse de revenus.\n",
        "\n",
        "<br**>X68 - Retained Earnings to Total Assets (Bénéfices non répartis / Actifs)**\n",
        "<br>→ Montre combien des actifs sont financés par les bénéfices passés.\n",
        "<br>✔ Élevé = Stabilité financière.\n",
        "<br>✖ Faible = Forte dépendance aux emprunts/investisseurs.\n",
        "\n",
        "<br>**X36 - Total debt / Total net worth (Ratio d’endettement)**\n",
        "<br>→ Compare la dette totale aux fonds propres.\n",
        "<br>✔ Faible = Bonne solidité financière.\n",
        "<br>✖ Élevé = Flexibilité financière réduite, risque accru en cas de crise."
      ],
      "metadata": {
        "id": "w-zKHUSUPZgk"
      }
    },
    {
      "cell_type": "markdown",
      "source": [],
      "metadata": {
        "id": "vvuKhcaFQBtY"
      }
    },
    {
      "cell_type": "code",
      "source": [
        "# Sélection des colonnes d'intérêt avec les nouveaux noms\n",
        "selected_columns = [\n",
        "    \"Net_Income_to_Total_Assets\",\n",
        "    \"Total_income_Total_expense\",\n",
        "    \"Borrowing_dependency\",\n",
        "    \"Retained_Earnings_to_Total_Assets\",\n",
        "    \"Total_debt_Total_net_worth\"\n",
        "]\n",
        "\n",
        "df_selected = df[selected_columns]"
      ],
      "metadata": {
        "id": "am6I9tG-Bqkf"
      },
      "execution_count": null,
      "outputs": []
    },
    {
      "cell_type": "code",
      "source": [
        "# Affichage des statistiques descriptives\n",
        "stats_desc = df_selected.describe()\n",
        "print(\"Statistiques descriptives :\\n\", stats_desc)"
      ],
      "metadata": {
        "id": "htfJ1WyoGjND",
        "outputId": "d7e7eceb-93a1-4419-c19e-34ae87ddabd1",
        "colab": {
          "base_uri": "https://localhost:8080/"
        }
      },
      "execution_count": null,
      "outputs": [
        {
          "output_type": "stream",
          "name": "stdout",
          "text": [
            "Statistiques descriptives :\n",
            "        Net_Income_to_Total_Assets  Total_income_Total_expense  \\\n",
            "count                 6819.000000                 6819.000000   \n",
            "mean                     0.807760                    0.002549   \n",
            "std                      0.040332                    0.012093   \n",
            "min                      0.000000                    0.000000   \n",
            "25%                      0.796750                    0.002236   \n",
            "50%                      0.810619                    0.002336   \n",
            "75%                      0.826455                    0.002492   \n",
            "max                      1.000000                    1.000000   \n",
            "\n",
            "       Borrowing_dependency  Retained_Earnings_to_Total_Assets  \\\n",
            "count           6819.000000                        6819.000000   \n",
            "mean               0.374654                           0.934733   \n",
            "std                0.016286                           0.025564   \n",
            "min                0.000000                           0.000000   \n",
            "25%                0.370168                           0.931097   \n",
            "50%                0.372624                           0.937672   \n",
            "75%                0.376271                           0.944811   \n",
            "max                1.000000                           1.000000   \n",
            "\n",
            "       Total_debt_Total_net_worth  \n",
            "count                6.819000e+03  \n",
            "mean                 4.416337e+06  \n",
            "std                  1.684069e+08  \n",
            "min                  0.000000e+00  \n",
            "25%                  3.007049e-03  \n",
            "50%                  5.546284e-03  \n",
            "75%                  9.273293e-03  \n",
            "max                  9.940000e+09  \n"
          ]
        }
      ]
    },
    {
      "cell_type": "markdown",
      "source": [
        "**Net_Income_to_Total_Assets (Rentabilité des actifs)**\n",
        "<br>→ Moyenne : 0.8077 (80% des actifs en revenu net)\n",
        "<br>→ Peu de variation, certaines entreprises à 0, d’autres à 1.\n",
        "<br>\n",
        "<br>**Total_income_Total_expense (Revenus vs Dépenses)**\n",
        "<br>→ Moyenne : 0.0025 (revenus ≈ dépenses)\n",
        "<br>→ Variabilité élevée, certaines entreprises équilibrées, d’autres déficitaires.\n",
        "<br>\n",
        "<br>**Borrowing_dependency (Dépendance aux emprunts)**\n",
        "<br>→ Moyenne : 37% des coûts financiers liés à la dette\n",
        "<br>→ Faible variation, certaines entreprises sans dette, d’autres totalement dépendantes.\n",
        "<br>\n",
        "<br>**Retained_Earnings_to_Total_Assets (Bénéfices non répartis)**\n",
        "<br>→ Moyenne : 93% des actifs financés en interne\n",
        "<br>→ Stabilité forte, mais certaines entreprises sans bénéfices accumulés.\n",
        "<br>\n",
        "<br>**Total_debt_Total_net_worth (Ratio d’endettement)**\n",
        "<br>→ Moyenne : 4.4M, Le ratio d'endettement moyen est très élevé\n",
        "<br>→ Certaines entreprises sans dette, d’autres extrêmement endettées."
      ],
      "metadata": {
        "id": "jswemM8XzUZw"
      }
    },
    {
      "cell_type": "code",
      "source": [
        "# Détection des corrélations (Evite redondance, identifie les tendances)\n",
        "correlation_matrix = df_selected.corr()"
      ],
      "metadata": {
        "id": "ipcgIJR2GmGd"
      },
      "execution_count": null,
      "outputs": []
    },
    {
      "cell_type": "code",
      "source": [
        "# Visualisation des distributions (Histogrammes)\n",
        "plt.figure(figsize=(12, 6))\n",
        "df_selected.hist(bins=30, figsize=(12, 8), layout=(2, 3))\n",
        "plt.suptitle(\"Distribution des variables sélectionnées\")\n",
        "plt.show()"
      ],
      "metadata": {
        "id": "gQh30_2KGpVO",
        "outputId": "3b254cb0-f17a-4d40-f11f-ab622e0d7d97",
        "colab": {
          "base_uri": "https://localhost:8080/",
          "height": 791
        }
      },
      "execution_count": null,
      "outputs": [
        {
          "output_type": "display_data",
          "data": {
            "text/plain": [
              "<Figure size 1200x600 with 0 Axes>"
            ]
          },
          "metadata": {}
        },
        {
          "output_type": "display_data",
          "data": {
            "text/plain": [
              "<Figure size 1200x800 with 6 Axes>"
            ],
            "image/png": "[encoded data removed]"
          },
          "metadata": {}
        }
      ]
    },
    {
      "cell_type": "markdown",
      "source": [
        "**Interpretation**\n",
        "\n",
        "\n",
        "*   **Net Income to Total Assets** : La majorité des entreprises ont un ratio compris entre 0.75 et 0.85, ce qui montre une forte concentration autour d’une rentabilité stable.\n",
        "\n",
        "*   **Total income / Total expense** : La distribution est très asymétrique, avec une majorité d'entreprises ayant un ratio très faible.\n",
        "\n",
        "\n",
        "*   **Borrowing dependency**: La plupart des entreprises ont une dépendance aux emprunts concentrée autour de 0.37.\n",
        "\n",
        "*   **Retained Earnings to Total Assets** : La plupart des entreprises financent presque 100% de leurs actifs avec leurs bénéfices.\n",
        "\n",
        "\n",
        "*   **Total debt / Total net worth** : Cette variable a une dispersion plus large, avec certaines entreprises ayant des niveaux de dette extrêmement élevés, ce qui peut indiquer des risques financiers importants.\n",
        "\n",
        "\n",
        "\n",
        "\n",
        "\n",
        "\n",
        "\n",
        "\n",
        "\n",
        "\n",
        "\n",
        "\n",
        "\n",
        "\n",
        "\n",
        "\n"
      ],
      "metadata": {
        "id": "8oDqEde-wuRy"
      }
    },
    {
      "cell_type": "code",
      "source": [
        "# Heatmap des corrélations\n",
        "plt.figure(figsize=(8, 6))\n",
        "sns.heatmap(correlation_matrix, annot=True, cmap=\"coolwarm\", fmt=\".2f\", linewidths=0.5)\n",
        "plt.title(\"Matrice de Corrélation\")\n",
        "plt.show()"
      ],
      "metadata": {
        "id": "flbTIPqvGsid",
        "outputId": "c71d1b9a-a4fe-4850-b783-e25c0c9f21fe",
        "colab": {
          "base_uri": "https://localhost:8080/",
          "height": 772
        }
      },
      "execution_count": null,
      "outputs": [
        {
          "output_type": "display_data",
          "data": {
            "text/plain": [
              "<Figure size 800x600 with 2 Axes>"
            ],
            "image/png": "[encoded data removed]"
          },
          "metadata": {}
        }
      ]
    },
    {
      "cell_type": "markdown",
      "source": [
        "**Conclusion**: Les entreprises les plus performantes sont celles qui :\n",
        "\n",
        "*   Réduisent leurs coûts fixes pour augmenter la rentabilité\n",
        "*   Évitent une trop forte dépendance aux emprunts.\n",
        "*   Réduisent leurs coûts fixes pour augmenter la rentabilité.\n"
      ],
      "metadata": {
        "id": "_lVLdDTy5fsA"
      }
    },
    {
      "cell_type": "markdown",
      "source": [
        "## EXPORT TO DATAIKU"
      ],
      "metadata": {
        "id": "ds_VGFQ68xWP"
      }
    },
    {
      "cell_type": "code",
      "source": [
        "dataiku_url = 'https://dss-c8b1fb04-e440c9ef-dku.eu-west-3.app.dataiku.io/projects/AI_FINANCIAL_TRACK/'\n",
        "dataiku_api_key = 'api key'\n",
        "\n",
        "external_client = dataiku.DSSClient(dataiku_url, dataiku_api_key)\n",
        "\n",
        "external_client"
      ],
      "metadata": {
        "id": "qhMDYwP082F_",
        "outputId": "73b6bbb0-01da-4947-fb34-557b7059445b",
        "colab": {
          "base_uri": "https://localhost:8080/"
        }
      },
      "execution_count": null,
      "outputs": [
        {
          "output_type": "execute_result",
          "data": {
            "text/plain": [
              "<dataikuapi.dssclient.DSSClient at 0x780aeb9cf550>"
            ]
          },
          "metadata": {},
          "execution_count": 19
        }
      ]
    }
  ]
}